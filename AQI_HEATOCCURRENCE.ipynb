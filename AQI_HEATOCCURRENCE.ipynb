{
  "cells": [
    {
      "cell_type": "markdown",
      "metadata": {
        "id": "MbdrFgYG64AB"
      },
      "source": [
        "Importing Required Libraries"
      ]
    },
    {
      "cell_type": "code",
      "execution_count": null,
      "metadata": {
        "id": "27SqOQNgIQYd",
        "colab": {
          "base_uri": "https://localhost:8080/"
        },
        "outputId": "4622c662-9fff-4714-dab7-a05469c5d014"
      },
      "outputs": [
        {
          "output_type": "stream",
          "name": "stdout",
          "text": [
            "Looking in indexes: https://pypi.org/simple, https://us-python.pkg.dev/colab-wheels/public/simple/\n",
            "Collecting ydata-profiling\n",
            "  Downloading ydata_profiling-4.0.0-py2.py3-none-any.whl (344 kB)\n",
            "\u001b[2K     \u001b[90m━━━━━━━━━━━━━━━━━━━━━━━━━━━━━━━━━━━━━━━\u001b[0m \u001b[32m344.5/344.5 KB\u001b[0m \u001b[31m7.1 MB/s\u001b[0m eta \u001b[36m0:00:00\u001b[0m\n",
            "\u001b[?25hRequirement already satisfied: matplotlib<3.7,>=3.2 in /usr/local/lib/python3.8/dist-packages (from ydata-profiling) (3.5.3)\n",
            "Collecting visions[type_image_path]==0.7.5\n",
            "  Downloading visions-0.7.5-py3-none-any.whl (102 kB)\n",
            "\u001b[2K     \u001b[90m━━━━━━━━━━━━━━━━━━━━━━━━━━━━━━━━━━━━━━\u001b[0m \u001b[32m102.7/102.7 KB\u001b[0m \u001b[31m13.1 MB/s\u001b[0m eta \u001b[36m0:00:00\u001b[0m\n",
            "\u001b[?25hCollecting phik<0.13,>=0.11.1\n",
            "  Downloading phik-0.12.3-cp38-cp38-manylinux_2_17_x86_64.manylinux2014_x86_64.whl (679 kB)\n",
            "\u001b[2K     \u001b[90m━━━━━━━━━━━━━━━━━━━━━━━━━━━━━━━━━━━━━━\u001b[0m \u001b[32m679.5/679.5 KB\u001b[0m \u001b[31m27.5 MB/s\u001b[0m eta \u001b[36m0:00:00\u001b[0m\n",
            "\u001b[?25hRequirement already satisfied: statsmodels<0.14,>=0.13.2 in /usr/local/lib/python3.8/dist-packages (from ydata-profiling) (0.13.5)\n",
            "Requirement already satisfied: pydantic<1.11,>=1.8.1 in /usr/local/lib/python3.8/dist-packages (from ydata-profiling) (1.10.5)\n",
            "Requirement already satisfied: pandas!=1.4.0,<1.6,>1.1 in /usr/local/lib/python3.8/dist-packages (from ydata-profiling) (1.3.5)\n",
            "Requirement already satisfied: tqdm<4.65,>=4.48.2 in /usr/local/lib/python3.8/dist-packages (from ydata-profiling) (4.64.1)\n",
            "Requirement already satisfied: jinja2<3.2,>=2.11.1 in /usr/local/lib/python3.8/dist-packages (from ydata-profiling) (3.1.2)\n",
            "Collecting htmlmin==0.1.12\n",
            "  Downloading htmlmin-0.1.12.tar.gz (19 kB)\n",
            "  Preparing metadata (setup.py) ... \u001b[?25l\u001b[?25hdone\n",
            "Collecting multimethod<1.10,>=1.4\n",
            "  Downloading multimethod-1.9.1-py3-none-any.whl (10 kB)\n",
            "Collecting scipy<1.10,>=1.4.1\n",
            "  Downloading scipy-1.9.3-cp38-cp38-manylinux_2_17_x86_64.manylinux2014_x86_64.whl (33.8 MB)\n",
            "\u001b[2K     \u001b[90m━━━━━━━━━━━━━━━━━━━━━━━━━━━━━━━━━━━━━━━━\u001b[0m \u001b[32m33.8/33.8 MB\u001b[0m \u001b[31m13.3 MB/s\u001b[0m eta \u001b[36m0:00:00\u001b[0m\n",
            "\u001b[?25hCollecting typeguard<2.14,>=2.13.2\n",
            "  Downloading typeguard-2.13.3-py3-none-any.whl (17 kB)\n",
            "Requirement already satisfied: seaborn<0.13,>=0.10.1 in /usr/local/lib/python3.8/dist-packages (from ydata-profiling) (0.11.2)\n",
            "Requirement already satisfied: requests<2.29,>=2.24.0 in /usr/local/lib/python3.8/dist-packages (from ydata-profiling) (2.25.1)\n",
            "Requirement already satisfied: numpy<1.24,>=1.16.0 in /usr/local/lib/python3.8/dist-packages (from ydata-profiling) (1.22.4)\n",
            "Requirement already satisfied: PyYAML<6.1,>=5.0.0 in /usr/local/lib/python3.8/dist-packages (from ydata-profiling) (6.0)\n",
            "Requirement already satisfied: networkx>=2.4 in /usr/local/lib/python3.8/dist-packages (from visions[type_image_path]==0.7.5->ydata-profiling) (3.0)\n",
            "Collecting tangled-up-in-unicode>=0.0.4\n",
            "  Downloading tangled_up_in_unicode-0.2.0-py3-none-any.whl (4.7 MB)\n",
            "\u001b[2K     \u001b[90m━━━━━━━━━━━━━━━━━━━━━━━━━━━━━━━━━━━━━━━━\u001b[0m \u001b[32m4.7/4.7 MB\u001b[0m \u001b[31m89.5 MB/s\u001b[0m eta \u001b[36m0:00:00\u001b[0m\n",
            "\u001b[?25hRequirement already satisfied: attrs>=19.3.0 in /usr/local/lib/python3.8/dist-packages (from visions[type_image_path]==0.7.5->ydata-profiling) (22.2.0)\n",
            "Collecting imagehash\n",
            "  Downloading ImageHash-4.3.1-py2.py3-none-any.whl (296 kB)\n",
            "\u001b[2K     \u001b[90m━━━━━━━━━━━━━━━━━━━━━━━━━━━━━━━━━━━━━━\u001b[0m \u001b[32m296.5/296.5 KB\u001b[0m \u001b[31m33.4 MB/s\u001b[0m eta \u001b[36m0:00:00\u001b[0m\n",
            "\u001b[?25hRequirement already satisfied: Pillow in /usr/local/lib/python3.8/dist-packages (from visions[type_image_path]==0.7.5->ydata-profiling) (8.4.0)\n",
            "Requirement already satisfied: MarkupSafe>=2.0 in /usr/local/lib/python3.8/dist-packages (from jinja2<3.2,>=2.11.1->ydata-profiling) (2.1.2)\n",
            "Requirement already satisfied: python-dateutil>=2.7 in /usr/local/lib/python3.8/dist-packages (from matplotlib<3.7,>=3.2->ydata-profiling) (2.8.2)\n",
            "Requirement already satisfied: pyparsing>=2.2.1 in /usr/local/lib/python3.8/dist-packages (from matplotlib<3.7,>=3.2->ydata-profiling) (3.0.9)\n",
            "Requirement already satisfied: kiwisolver>=1.0.1 in /usr/local/lib/python3.8/dist-packages (from matplotlib<3.7,>=3.2->ydata-profiling) (1.4.4)\n",
            "Requirement already satisfied: fonttools>=4.22.0 in /usr/local/lib/python3.8/dist-packages (from matplotlib<3.7,>=3.2->ydata-profiling) (4.38.0)\n",
            "Requirement already satisfied: cycler>=0.10 in /usr/local/lib/python3.8/dist-packages (from matplotlib<3.7,>=3.2->ydata-profiling) (0.11.0)\n",
            "Requirement already satisfied: packaging>=20.0 in /usr/local/lib/python3.8/dist-packages (from matplotlib<3.7,>=3.2->ydata-profiling) (23.0)\n",
            "Requirement already satisfied: pytz>=2017.3 in /usr/local/lib/python3.8/dist-packages (from pandas!=1.4.0,<1.6,>1.1->ydata-profiling) (2022.7.1)\n",
            "Requirement already satisfied: joblib>=0.14.1 in /usr/local/lib/python3.8/dist-packages (from phik<0.13,>=0.11.1->ydata-profiling) (1.2.0)\n",
            "Requirement already satisfied: typing-extensions>=4.2.0 in /usr/local/lib/python3.8/dist-packages (from pydantic<1.11,>=1.8.1->ydata-profiling) (4.5.0)\n",
            "Requirement already satisfied: idna<3,>=2.5 in /usr/local/lib/python3.8/dist-packages (from requests<2.29,>=2.24.0->ydata-profiling) (2.10)\n",
            "Requirement already satisfied: urllib3<1.27,>=1.21.1 in /usr/local/lib/python3.8/dist-packages (from requests<2.29,>=2.24.0->ydata-profiling) (1.26.14)\n",
            "Requirement already satisfied: certifi>=2017.4.17 in /usr/local/lib/python3.8/dist-packages (from requests<2.29,>=2.24.0->ydata-profiling) (2022.12.7)\n",
            "Requirement already satisfied: chardet<5,>=3.0.2 in /usr/local/lib/python3.8/dist-packages (from requests<2.29,>=2.24.0->ydata-profiling) (4.0.0)\n",
            "Requirement already satisfied: patsy>=0.5.2 in /usr/local/lib/python3.8/dist-packages (from statsmodels<0.14,>=0.13.2->ydata-profiling) (0.5.3)\n",
            "Requirement already satisfied: six in /usr/local/lib/python3.8/dist-packages (from patsy>=0.5.2->statsmodels<0.14,>=0.13.2->ydata-profiling) (1.15.0)\n",
            "Requirement already satisfied: PyWavelets in /usr/local/lib/python3.8/dist-packages (from imagehash->visions[type_image_path]==0.7.5->ydata-profiling) (1.4.1)\n",
            "Building wheels for collected packages: htmlmin\n",
            "  Building wheel for htmlmin (setup.py) ... \u001b[?25l\u001b[?25hdone\n",
            "  Created wheel for htmlmin: filename=htmlmin-0.1.12-py3-none-any.whl size=27098 sha256=cf6dfc0a7c01404e87a0debc1415c9b436184a11f037f0e37aacb13b30e79624\n",
            "  Stored in directory: /root/.cache/pip/wheels/23/14/6e/4be5bfeeb027f4939a01764b48edd5996acf574b0913fe5243\n",
            "Successfully built htmlmin\n",
            "Installing collected packages: htmlmin, typeguard, tangled-up-in-unicode, scipy, multimethod, imagehash, visions, phik, ydata-profiling\n",
            "  Attempting uninstall: typeguard\n",
            "    Found existing installation: typeguard 2.7.1\n",
            "    Uninstalling typeguard-2.7.1:\n",
            "      Successfully uninstalled typeguard-2.7.1\n",
            "  Attempting uninstall: scipy\n",
            "    Found existing installation: scipy 1.10.1\n",
            "    Uninstalling scipy-1.10.1:\n",
            "      Successfully uninstalled scipy-1.10.1\n",
            "Successfully installed htmlmin-0.1.12 imagehash-4.3.1 multimethod-1.9.1 phik-0.12.3 scipy-1.9.3 tangled-up-in-unicode-0.2.0 typeguard-2.13.3 visions-0.7.5 ydata-profiling-4.0.0\n"
          ]
        }
      ],
      "source": [
        "import numpy as np\n",
        "import pandas as pd\n",
        "from pandas import Series, DataFrame\n",
        "import seaborn as sb\n",
        "import matplotlib.pyplot as plt\n",
        "import glob\n",
        "!pip install ydata-profiling\n",
        "from ydata_profiling import ProfileReport\n"
      ]
    },
    {
      "cell_type": "markdown",
      "source": [
        "# PRE-PROCESSING FOR TRANSPORT DATA \n",
        "AS WE REQUIRE ONLY NO. OF DIESEL CARS FROM IT"
      ],
      "metadata": {
        "id": "Q5jXQpg19wAp"
      }
    },
    {
      "cell_type": "code",
      "source": [
        "path2 = '/content/transport'\n",
        "all_files1 = glob.glob(path2 + \"/*.csv\")"
      ],
      "metadata": {
        "id": "x3tX_YoI74-b"
      },
      "execution_count": 189,
      "outputs": []
    },
    {
      "cell_type": "code",
      "source": [
        "all_dfs1 = []\n",
        "for one_filenames in all_files1:\n",
        "    print(f'Loading {one_filenames}')\n",
        "    new_df = pd.read_csv(one_filenames,encoding = 'unicode_escape',index_col=None, header =0)\n",
        "    all_dfs1.append(new_df)"
      ],
      "metadata": {
        "id": "_7oDgWnn8juB",
        "colab": {
          "base_uri": "https://localhost:8080/"
        },
        "outputId": "177c3776-55ef-472f-9f06-ed71ffe800e8"
      },
      "execution_count": 190,
      "outputs": [
        {
          "output_type": "stream",
          "name": "stdout",
          "text": [
            "Loading /content/transport/ts_transport_online_sales_01_09_2022to30_09_2022.csv\n",
            "Loading /content/transport/ts_transport_vehicle_online_sales_01_10_2019to31_10_2019.csv\n",
            "Loading /content/transport/ts_transport_online_sales_01_12_2021to31_12_2021.csv\n",
            "Loading /content/transport/ts_transport_onlinesales_01_07_2020to31_07_2020.csv\n",
            "Loading /content/transport/ts_transport_online_sales_01_04_2021to30_04_2021.csv\n",
            "Loading /content/transport/ts_transport_online_sales_01_01_2022to31_01_2022.csv\n",
            "Loading /content/transport/ts_transport_online_sales_01_03_2020to31_03_2020.csv\n",
            "Loading /content/transport/ts_transport_onlinesales_01_05_2020to31_05_2020.csv\n",
            "Loading /content/transport/ts_transport_online_sales_01_10_2020to31_10_2020.csv\n",
            "Loading /content/transport/ts_transport_online_sales_01_08_2020to31_08_2020.csv\n",
            "Loading /content/transport/ts_transport_online_sales_01_02_2022to28_02_2022.csv\n",
            "Loading /content/transport/ts_transport_vehicle_online_sales_01_08_2019to31_08_2019.csv\n",
            "Loading /content/transport/ts_transport_online_sales_01_03_2021to31_03_2021.csv\n",
            "Loading /content/transport/ts_transport_online_sales_01_11_2020to30_11_2020.csv\n",
            "Loading /content/transport/ts_transport_vehicle_online_sales_01_04_2019to30_04_2019.csv\n",
            "Loading /content/transport/ts_transport_online_sales_01_06_2020to30_06_2020.csv\n",
            "Loading /content/transport/ts_transport_vehicle_online_sales_01_02_2019to28_02_2019.csv\n",
            "Loading /content/transport/ts_transport_online_sales_01_02_2021to28_02_2021.csv\n",
            "Loading /content/transport/ts_transport_online_sales_01_04_2022to30_04_2022.csv\n",
            "Loading /content/transport/ts_transport_vehicle_online_sales_01_06_2019to30_06_2019.csv\n",
            "Loading /content/transport/ts_transport_online_sales_01_10_2021to31_10_2021.csv\n",
            "Loading /content/transport/ts_transport_vehicle_online_sales_01_09_2019to30_09_2019.csv\n",
            "Loading /content/transport/ts_transport_online_sales_01_09_2021to30_09_2021.csv\n",
            "Loading /content/transport/ts_transport_online_sales_01_12_2020to31_12_2020.csv\n",
            "Loading /content/transport/ts_transport_online_sales_01_06_2021to30_06_2021.csv\n",
            "Loading /content/transport/ts_transport_vehicle_online_sales_01_12_2019to31_12_2019.csv\n",
            "Loading /content/transport/ts_transport_vehicles_online_sales_01_02_2020to29_02_2020.csv\n",
            "Loading /content/transport/ts_transport_online_sales_01_01_2021to31_01_2021.csv\n",
            "Loading /content/transport/ts_transport_online_sales_01_03_2022to31_03_2022.csv\n",
            "Loading /content/transport/ts_transport_online_sales_01_07_2021to31_07_2021.csv\n",
            "Loading /content/transport/ts_transport_online_sales_01_05_2022to31_05_2022.csv\n",
            "Loading /content/transport/ts_transport_vehicle_online_sales_01_07_2019to31_07_2019.csv\n",
            "Loading /content/transport/ts_transport_vehicle_online_sales_01_05_2019to31_05_2019.csv\n",
            "Loading /content/transport/ts_transport_online_sales_01_06_2022to30_06_2022_0.csv\n",
            "Loading /content/transport/ts_transport_online_sales_01_05_2021to31_05_2021.csv\n",
            "Loading /content/transport/ts_transport_online_sales_01_09_2020to30_09_2020.csv\n",
            "Loading /content/transport/ts_transport_online_sales_01_04_2020to30_04_2020.csv\n",
            "Loading /content/transport/ts_transport_online_sales_01_11_2021to30_11_2021.csv\n",
            "Loading /content/transport/ts_transport_online_sales_01_08_2022to31_08_2022.csv\n",
            "Loading /content/transport/ts_transport_vehicle_online_sales_01_01_2019to31_01_2019.csv\n",
            "Loading /content/transport/ts_transport_online_sales_01_08_2021to31_08_2021.csv\n",
            "Loading /content/transport/ts_transport_vehicle_online_sales_01_03_2019to31_03_2019.csv\n",
            "Loading /content/transport/ts_transport_vehicle_online_sales_01_11_2019to30_11_2019.csv\n",
            "Loading /content/transport/ts_transport_vehicle_online_sales_01_01_2020to31_01_2020.csv\n",
            "Loading /content/transport/ts_transport_online_sales_01_07_2022to31_07_2022.csv\n"
          ]
        }
      ]
    },
    {
      "cell_type": "code",
      "source": [
        "len(all_dfs1)"
      ],
      "metadata": {
        "id": "rJtn34Ln8nZf",
        "colab": {
          "base_uri": "https://localhost:8080/"
        },
        "outputId": "49d99958-8af6-43c3-9371-c79e2e3f7861"
      },
      "execution_count": 191,
      "outputs": [
        {
          "output_type": "execute_result",
          "data": {
            "text/plain": [
              "45"
            ]
          },
          "metadata": {},
          "execution_count": 191
        }
      ]
    },
    {
      "cell_type": "code",
      "source": [
        "df_1 = pd.concat(all_dfs1)"
      ],
      "metadata": {
        "id": "Y-TCWDXY8rHE"
      },
      "execution_count": 192,
      "outputs": []
    },
    {
      "cell_type": "code",
      "source": [
        "df_1['todate'] = pd.to_datetime(df_1['todate'])"
      ],
      "metadata": {
        "id": "lnd4OKnr8t6e"
      },
      "execution_count": 193,
      "outputs": []
    },
    {
      "cell_type": "code",
      "source": [
        "# Get data pofiling\n",
        "profile2 =ProfileReport(df_1, title='Panda Profiling Report2', explorative=True)\n",
        "profile2.to_file(\"output2.html\")"
      ],
      "metadata": {
        "id": "ja67JEMi8w8E"
      },
      "execution_count": null,
      "outputs": []
    },
    {
      "cell_type": "code",
      "source": [
        "import array as arr\n",
        "\n",
        "unique_count = df_1['todate'].nunique()"
      ],
      "metadata": {
        "id": "w8y22dsL8229"
      },
      "execution_count": null,
      "outputs": []
    },
    {
      "cell_type": "code",
      "source": [
        "# Get minimum and maximum dates\n",
        "\n",
        "min_date_time = df_1['todate'].min()\n",
        "max_date_time = df_1['todate'].max()\n",
        "\n",
        "array = [0] * ((max_date_time - min_date_time).days + 1)\n",
        "'''\n",
        "  [\n",
        "    [19, 121], // 1st March\n",
        "    ..\n",
        "    ..\n",
        "    [31, 212] // i \n",
        "\n",
        "    [21 ,12], // 31st March\n",
        "  ]\n",
        "'''\n",
        "\n",
        "print(type(min_date_time), (max_date_time - min_date_time).days)"
      ],
      "metadata": {
        "colab": {
          "base_uri": "https://localhost:8080/"
        },
        "id": "9bE9WP1CFsnT",
        "outputId": "b9c35840-9004-4acc-ab25-987e8e44d684"
      },
      "execution_count": null,
      "outputs": [
        {
          "output_type": "stream",
          "name": "stdout",
          "text": [
            "<class 'pandas._libs.tslibs.timestamps.Timestamp'> 1426\n"
          ]
        }
      ]
    },
    {
      "cell_type": "code",
      "source": [
        "for index, row in df_1.iterrows():\n",
        "  idx = (row['todate'] - min_date_time).days\n",
        "\n",
        "  if 'DIESEL' in str(row['fuel']):\n",
        "    array[idx] += 1 # diesel cars count\n",
        "  \n",
        "print(array)"
      ],
      "metadata": {
        "colab": {
          "base_uri": "https://localhost:8080/"
        },
        "id": "vVqKzRPXFyQ_",
        "outputId": "59e23b71-2819-445c-e14d-3e257228e9b3"
      },
      "execution_count": null,
      "outputs": [
        {
          "output_type": "stream",
          "name": "stdout",
          "text": [
            "[503, 261, 246, 257, 835, 1118, 1083, 561, 576, 1049, 1084, 1114, 1266, 764, 28, 476, 989, 1354, 1860, 1104, 843, 1233, 543, 473, 455, 783, 755, 53, 733, 1127, 348, 1095, 1203, 1377, 1347, 635, 604, 1099, 1136, 1289, 1379, 1287, 590, 591, 1193, 1309, 1808, 1442, 388, 576, 754, 832, 329, 676, 903, 330, 1084, 451, 792, 1303, 1287, 1178, 1378, 788, 760, 1232, 1185, 790, 888, 1299, 540, 754, 1345, 1418, 1481, 1438, 2068, 2027, 1344, 359, 381, 868, 672, 730, 882, 434, 702, 1770, 388, 840, 811, 364, 515, 940, 929, 1018, 939, 811, 408, 476, 948, 1002, 1085, 1163, 1013, 430, 797, 1689, 951, 733, 529, 903, 299, 644, 960, 545, 847, 1740, 877, 821, 150, 679, 1051, 1123, 1276, 1151, 520, 507, 875, 881, 1089, 1180, 974, 429, 421, 899, 1254, 1565, 1809, 334, 1068, 573, 714, 444, 721, 838, 906, 760, 1164, 1076, 1164, 1379, 1291, 1222, 613, 570, 1060, 1130, 1240, 1313, 1194, 510, 611, 1189, 1334, 1774, 1965, 1926, 1336, 608, 1337, 868, 249, 960, 997, 399, 860, 715, 1749, 1155, 1096, 1032, 394, 386, 776, 799, 972, 1108, 936, 407, 474, 910, 889, 847, 878, 894, 433, 472, 951, 1172, 1049, 1374, 1273, 508, 953, 956, 495, 890, 415, 2115, 1195, 455, 451, 865, 637, 519, 994, 510, 444, 803, 873, 985, 891, 830, 435, 554, 1040, 1085, 1140, 978, 1357, 889, 1253, 1257, 960, 972, 468, 885, 1067, 518, 762, 1084, 659, 684, 791, 319, 388, 696, 691, 810, 1027, 1031, 461, 421, 850, 894, 1014, 1162, 1147, 818, 1712, 861, 578, 499, 1136, 1011, 423, 790, 1098, 768, 842, 475, 1093, 761, 721, 1322, 1265, 1236, 1424, 1379, 615, 579, 1102, 1396, 1752, 1967, 1849, 834, 539, 1235, 1897, 2582, 1048, 623, 546, 684, 812, 833, 926, 453, 656, 1551, 409, 1180, 921, 979, 1151, 1141, 516, 622, 1063, 1067, 1314, 1589, 1396, 522, 479, 911, 1101, 1415, 1641, 2011, 1087, 1126, 1075, 461, 365, 1140, 1198, 229, 593, 1567, 853, 1327, 1378, 1298, 590, 632, 1042, 1081, 1086, 1187, 1576, 939, 867, 1355, 970, 704, 1187, 1709, 1070, 1359, 2611, 0, 0, 0, 0, 0, 0, 0, 0, 0, 0, 0, 0, 587, 965, 434, 279, 914, 1310, 680, 787, 1294, 1016, 1003, 1009, 1175, 715, 826, 1492, 1606, 1996, 2506, 1341, 478, 537, 14, 24, 466, 539, 169, 457, 472, 403, 496, 1466, 1560, 1436, 643, 686, 1318, 1611, 2012, 1808, 927, 193, 840, 1579, 1732, 1879, 1987, 2319, 1579, 585, 931, 6, 22, 524, 507, 147, 514, 428, 690, 706, 1637, 1485, 795, 836, 1470, 1383, 1415, 1505, 1457, 707, 190, 468, 384, 281, 387, 224, 18, 449, 599, 1131, 1108, 1048, 0, 46, 481, 574, 326, 559, 369, 638, 703, 72, 81, 72, 77, 72, 76, 41, 34, 40, 41, 63, 63, 45, 20, 63, 106, 178, 219, 553, 1290, 1343, 0, 71, 534, 297, 456, 509, 415, 750, 656, 311, 383, 404, 284, 123, 220, 439, 458, 453, 478, 510, 276, 151, 412, 605, 667, 664, 703, 500, 863, 1398, 1468, 1, 79, 643, 321, 490, 221, 746, 828, 352, 637, 284, 452, 766, 772, 842, 843, 804, 411, 395, 707, 736, 874, 939, 853, 408, 511, 1050, 1352, 1317, 1374, 1, 136, 328, 618, 458, 343, 760, 770, 414, 253, 506, 654, 673, 588, 526, 233, 205, 466, 661, 729, 687, 595, 265, 390, 695, 800, 988, 1137, 1077, 1197, 824, 0, 235, 361, 596, 412, 605, 777, 395, 583, 555, 665, 409, 39, 324, 510, 375, 438, 684, 501, 90, 333, 580, 537, 592, 783, 844, 428, 742, 1069, 561, 468, 0, 268, 601, 596, 177, 628, 828, 417, 599, 301, 355, 553, 545, 568, 798, 1022, 518, 577, 957, 935, 925, 782, 990, 721, 680, 1280, 1508, 1071, 703, 829, 56, 134, 698, 671, 243, 636, 796, 772, 912, 963, 737, 693, 746, 1021, 802, 801, 1187, 1217, 1382, 1530, 1556, 1115, 561, 628, 1146, 1459, 1508, 1685, 986, 1245, 1270, 125, 143, 791, 635, 440, 617, 351, 843, 899, 1124, 649, 156, 528, 873, 824, 985, 1015, 827, 398, 422, 847, 1013, 1108, 1123, 1053, 561, 906, 456, 1288, 1578, 86, 292, 769, 282, 473, 627, 551, 1046, 720, 340, 290, 587, 832, 978, 1012, 1024, 481, 485, 881, 851, 987, 893, 632, 314, 430, 765, 885, 1190, 0, 0, 0, 0, 0, 0, 0, 0, 0, 0, 0, 0, 648, 364, 303, 557, 338, 450, 783, 833, 816, 814, 941, 508, 546, 548, 521, 1091, 1126, 1382, 1133, 677, 544, 627, 522, 34, 298, 650, 213, 542, 387, 495, 596, 902, 394, 486, 907, 933, 990, 775, 815, 572, 607, 1024, 983, 1115, 1245, 1339, 841, 331, 579, 624, 483, 224, 372, 603, 385, 549, 42, 471, 462, 461, 340, 493, 790, 724, 898, 958, 872, 424, 445, 841, 992, 1144, 1200, 1097, 520, 314, 855, 1667, 303, 731, 725, 259, 386, 633, 323, 397, 572, 265, 282, 347, 554, 451, 654, 791, 774, 371, 366, 654, 577, 723, 900, 713, 273, 327, 676, 772, 942, 1118, 592, 673, 763, 221, 371, 694, 402, 421, 269, 441, 242, 144, 232, 347, 283, 130, 201, 322, 335, 342, 426, 466, 226, 250, 403, 462, 534, 623, 726, 382, 681, 578, 623, 738, 453, 422, 354, 694, 412, 165, 362, 450, 262, 534, 521, 835, 812, 838, 853, 803, 443, 688, 1143, 1027, 1020, 1011, 930, 479, 715, 1363, 1863, 659, 363, 337, 627, 502, 351, 745, 407, 313, 584, 246, 441, 1171, 836, 842, 885, 782, 349, 444, 813, 658, 523, 644, 693, 324, 315, 641, 790, 924, 1043, 1361, 941, 446, 406, 803, 493, 589, 547, 204, 467, 1097, 282, 519, 831, 673, 231, 283, 575, 688, 700, 668, 674, 333, 320, 554, 620, 692, 812, 788, 324, 492, 1020, 921, 718, 795, 775, 215, 587, 407, 356, 705, 1045, 493, 589, 274, 474, 470, 673, 828, 723, 315, 331, 534, 495, 605, 750, 682, 269, 318, 672, 816, 1339, 373, 648, 821, 601, 155, 546, 287, 623, 472, 401, 498, 592, 947, 1280, 1199, 573, 172, 469, 772, 708, 755, 854, 830, 359, 524, 1000, 921, 897, 1039, 1260, 1147, 381, 631, 671, 245, 398, 723, 0, 602, 291, 554, 565, 585, 488, 240, 302, 497, 471, 555, 534, 477, 243, 303, 570, 626, 656, 725, 709, 342, 562, 1037, 703, 810, 398, 381, 317, 909, 756, 715, 223, 957, 547, 291, 361, 584, 548, 600, 601, 567, 290, 339, 557, 573, 662, 721, 541, 159, 282, 573, 796, 962, 1092, 0, 0, 0, 0, 0, 0, 0, 0, 0, 0, 0, 0, 750, 639, 230, 14, 253, 471, 636, 770, 714, 685, 341, 371, 667, 353, 525, 987, 957, 573, 852, 137, 525, 193, 306, 472, 760, 725, 520, 635, 0, 0, 0, 287, 362, 676, 712, 756, 777, 724, 337, 436, 693, 627, 758, 925, 943, 519, 886, 320, 751, 391, 110, 490, 727, 343, 539, 575, 0, 0, 0, 310, 428, 699, 665, 725, 474, 415, 382, 550, 807, 765, 827, 801, 817, 465, 643, 1032, 1075, 1693, 489, 731, 664, 335, 356, 788, 360, 578, 296, 0, 0, 0, 725, 861, 747, 567, 303, 475, 743, 727, 846, 844, 722, 328, 381, 711, 789, 858, 1114, 1556, 440, 658, 646, 656, 503, 409, 649, 548, 268, 0, 0, 0, 894, 887, 377, 422, 812, 838, 792, 799, 876, 439, 422, 824, 909, 1060, 1099, 1122, 617, 591, 1505, 472, 391, 322, 762, 574, 437, 668, 526, 487, 0, 0, 0, 479, 918, 928, 1025, 1121, 1071, 527, 535, 935, 952, 1139, 1273, 1212, 560, 532, 998, 1108, 1830, 500, 421, 332, 713, 607, 730, 739, 277, 538, 0, 0, 0, 695, 769, 859, 878, 439, 441, 789, 744, 667, 647, 681, 372, 379, 637, 627, 686, 1084, 1486, 1087, 496, 594, 645, 746, 341, 729, 825, 333, 697, 0, 0, 0, 602, 280, 22, 230, 555, 686, 694, 721, 390, 355, 643, 703, 739, 736, 694, 319, 561, 1245, 1124, 204, 497, 723, 738, 351, 967, 747, 502, 648, 0, 0, 0, 554, 696, 724, 737, 730, 325, 309, 581, 701, 791, 779, 733, 341, 503, 1121, 1522, 1703, 2241, 199, 660, 708, 286, 572, 1109, 314, 551, 509, 0, 0, 0, 0, 0, 0, 0, 0, 0, 0, 0, 0, 0, 0, 0, 0, 0, 0, 0, 0, 0, 0, 410, 806, 699, 418, 636, 980, 405, 729, 255, 0, 0, 0, 0, 0, 0, 0, 0, 0, 0, 0, 0, 0, 0, 0, 0, 0, 0, 0, 0, 0, 549, 703, 684, 711, 744, 447, 709, 680, 264]\n"
          ]
        }
      ]
    },
    {
      "cell_type": "code",
      "source": [
        "data = pd.DataFrame(newCol)\n"
      ],
      "metadata": {
        "id": "yd_7YdWLF40P"
      },
      "execution_count": null,
      "outputs": []
    },
    {
      "cell_type": "code",
      "source": [
        "data.columns =['Date', 'No. of Diesel cars']"
      ],
      "metadata": {
        "id": "IOwmc8nqIIqN"
      },
      "execution_count": null,
      "outputs": []
    },
    {
      "cell_type": "code",
      "source": [
        "data.head()"
      ],
      "metadata": {
        "colab": {
          "base_uri": "https://localhost:8080/",
          "height": 206
        },
        "id": "LXzX-9AKHtQi",
        "outputId": "e04bcd81-f238-42db-aea2-c0b6203f4203"
      },
      "execution_count": null,
      "outputs": [
        {
          "output_type": "execute_result",
          "data": {
            "text/plain": [
              "        Date  No. of Diesel cars\n",
              "0 2019-01-13                 503\n",
              "1 2019-01-14                 261\n",
              "2 2019-01-15                 246\n",
              "3 2019-01-16                 257\n",
              "4 2019-01-17                 835"
            ],
            "text/html": [
              "\n",
              "  <div id=\"df-a1990b4e-b64a-4919-9826-f93ba261ba24\">\n",
              "    <div class=\"colab-df-container\">\n",
              "      <div>\n",
              "<style scoped>\n",
              "    .dataframe tbody tr th:only-of-type {\n",
              "        vertical-align: middle;\n",
              "    }\n",
              "\n",
              "    .dataframe tbody tr th {\n",
              "        vertical-align: top;\n",
              "    }\n",
              "\n",
              "    .dataframe thead th {\n",
              "        text-align: right;\n",
              "    }\n",
              "</style>\n",
              "<table border=\"1\" class=\"dataframe\">\n",
              "  <thead>\n",
              "    <tr style=\"text-align: right;\">\n",
              "      <th></th>\n",
              "      <th>Date</th>\n",
              "      <th>No. of Diesel cars</th>\n",
              "    </tr>\n",
              "  </thead>\n",
              "  <tbody>\n",
              "    <tr>\n",
              "      <th>0</th>\n",
              "      <td>2019-01-13</td>\n",
              "      <td>503</td>\n",
              "    </tr>\n",
              "    <tr>\n",
              "      <th>1</th>\n",
              "      <td>2019-01-14</td>\n",
              "      <td>261</td>\n",
              "    </tr>\n",
              "    <tr>\n",
              "      <th>2</th>\n",
              "      <td>2019-01-15</td>\n",
              "      <td>246</td>\n",
              "    </tr>\n",
              "    <tr>\n",
              "      <th>3</th>\n",
              "      <td>2019-01-16</td>\n",
              "      <td>257</td>\n",
              "    </tr>\n",
              "    <tr>\n",
              "      <th>4</th>\n",
              "      <td>2019-01-17</td>\n",
              "      <td>835</td>\n",
              "    </tr>\n",
              "  </tbody>\n",
              "</table>\n",
              "</div>\n",
              "      <button class=\"colab-df-convert\" onclick=\"convertToInteractive('df-a1990b4e-b64a-4919-9826-f93ba261ba24')\"\n",
              "              title=\"Convert this dataframe to an interactive table.\"\n",
              "              style=\"display:none;\">\n",
              "        \n",
              "  <svg xmlns=\"http://www.w3.org/2000/svg\" height=\"24px\"viewBox=\"0 0 24 24\"\n",
              "       width=\"24px\">\n",
              "    <path d=\"M0 0h24v24H0V0z\" fill=\"none\"/>\n",
              "    <path d=\"M18.56 5.44l.94 2.06.94-2.06 2.06-.94-2.06-.94-.94-2.06-.94 2.06-2.06.94zm-11 1L8.5 8.5l.94-2.06 2.06-.94-2.06-.94L8.5 2.5l-.94 2.06-2.06.94zm10 10l.94 2.06.94-2.06 2.06-.94-2.06-.94-.94-2.06-.94 2.06-2.06.94z\"/><path d=\"M17.41 7.96l-1.37-1.37c-.4-.4-.92-.59-1.43-.59-.52 0-1.04.2-1.43.59L10.3 9.45l-7.72 7.72c-.78.78-.78 2.05 0 2.83L4 21.41c.39.39.9.59 1.41.59.51 0 1.02-.2 1.41-.59l7.78-7.78 2.81-2.81c.8-.78.8-2.07 0-2.86zM5.41 20L4 18.59l7.72-7.72 1.47 1.35L5.41 20z\"/>\n",
              "  </svg>\n",
              "      </button>\n",
              "      \n",
              "  <style>\n",
              "    .colab-df-container {\n",
              "      display:flex;\n",
              "      flex-wrap:wrap;\n",
              "      gap: 12px;\n",
              "    }\n",
              "\n",
              "    .colab-df-convert {\n",
              "      background-color: #E8F0FE;\n",
              "      border: none;\n",
              "      border-radius: 50%;\n",
              "      cursor: pointer;\n",
              "      display: none;\n",
              "      fill: #1967D2;\n",
              "      height: 32px;\n",
              "      padding: 0 0 0 0;\n",
              "      width: 32px;\n",
              "    }\n",
              "\n",
              "    .colab-df-convert:hover {\n",
              "      background-color: #E2EBFA;\n",
              "      box-shadow: 0px 1px 2px rgba(60, 64, 67, 0.3), 0px 1px 3px 1px rgba(60, 64, 67, 0.15);\n",
              "      fill: #174EA6;\n",
              "    }\n",
              "\n",
              "    [theme=dark] .colab-df-convert {\n",
              "      background-color: #3B4455;\n",
              "      fill: #D2E3FC;\n",
              "    }\n",
              "\n",
              "    [theme=dark] .colab-df-convert:hover {\n",
              "      background-color: #434B5C;\n",
              "      box-shadow: 0px 1px 3px 1px rgba(0, 0, 0, 0.15);\n",
              "      filter: drop-shadow(0px 1px 2px rgba(0, 0, 0, 0.3));\n",
              "      fill: #FFFFFF;\n",
              "    }\n",
              "  </style>\n",
              "\n",
              "      <script>\n",
              "        const buttonEl =\n",
              "          document.querySelector('#df-a1990b4e-b64a-4919-9826-f93ba261ba24 button.colab-df-convert');\n",
              "        buttonEl.style.display =\n",
              "          google.colab.kernel.accessAllowed ? 'block' : 'none';\n",
              "\n",
              "        async function convertToInteractive(key) {\n",
              "          const element = document.querySelector('#df-a1990b4e-b64a-4919-9826-f93ba261ba24');\n",
              "          const dataTable =\n",
              "            await google.colab.kernel.invokeFunction('convertToInteractive',\n",
              "                                                     [key], {});\n",
              "          if (!dataTable) return;\n",
              "\n",
              "          const docLinkHtml = 'Like what you see? Visit the ' +\n",
              "            '<a target=\"_blank\" href=https://colab.research.google.com/notebooks/data_table.ipynb>data table notebook</a>'\n",
              "            + ' to learn more about interactive tables.';\n",
              "          element.innerHTML = '';\n",
              "          dataTable['output_type'] = 'display_data';\n",
              "          await google.colab.output.renderOutput(dataTable, element);\n",
              "          const docLink = document.createElement('div');\n",
              "          docLink.innerHTML = docLinkHtml;\n",
              "          element.appendChild(docLink);\n",
              "        }\n",
              "      </script>\n",
              "    </div>\n",
              "  </div>\n",
              "  "
            ]
          },
          "metadata": {},
          "execution_count": 18
        }
      ]
    },
    {
      "cell_type": "code",
      "source": [
        "# we are exporting to check the outcomes manually\n",
        "data.to_csv('transport.csv', encoding='utf-8')"
      ],
      "metadata": {
        "id": "8gx2l4WoXdJI"
      },
      "execution_count": null,
      "outputs": []
    },
    {
      "cell_type": "markdown",
      "source": [
        "# HEATWAVE OCCURRENCE"
      ],
      "metadata": {
        "id": "nNBsQchU6Nz1"
      }
    },
    {
      "cell_type": "markdown",
      "metadata": {
        "id": "jriU9Kn17G_C"
      },
      "source": [
        "Uploading the Required DataFrames"
      ]
    },
    {
      "cell_type": "code",
      "execution_count": 194,
      "metadata": {
        "colab": {
          "base_uri": "https://localhost:8080/"
        },
        "id": "x-TEYs4VVf1S",
        "outputId": "6f1dd495-2ff8-45a9-eb58-657b27fbc1c5"
      },
      "outputs": [
        {
          "output_type": "stream",
          "name": "stderr",
          "text": [
            "/usr/local/lib/python3.8/dist-packages/IPython/core/interactiveshell.py:3326: DtypeWarning: Columns (6) have mixed types.Specify dtype option on import or set low_memory=False.\n",
            "  exec(code_obj, self.user_global_ns, self.user_ns)\n"
          ]
        }
      ],
      "source": [
        "path = '/content/temp34.csv'\n",
        "df0 = pd.read_csv(path,encoding = 'unicode_escape',index_col=None, header =0)\n",
        "df0['Date'] = pd.to_datetime(df0['Date'])"
      ]
    },
    {
      "cell_type": "code",
      "execution_count": 195,
      "metadata": {
        "colab": {
          "base_uri": "https://localhost:8080/"
        },
        "id": "vQ3KLeUg1mfi",
        "outputId": "8c8e0429-38ca-4445-e9e8-6e15cd821f9a"
      },
      "outputs": [
        {
          "output_type": "execute_result",
          "data": {
            "text/plain": [
              "<bound method Series.unique of 0               Adilabad\n",
              "1               Adilabad\n",
              "2               Adilabad\n",
              "3               Adilabad\n",
              "4               Adilabad\n",
              "               ...      \n",
              "136801    Warangal Urban\n",
              "136802    Warangal Urban\n",
              "136803    Warangal Urban\n",
              "136804    Warangal Urban\n",
              "136805    Warangal Urban\n",
              "Name: District, Length: 136806, dtype: object>"
            ]
          },
          "metadata": {},
          "execution_count": 195
        }
      ],
      "source": [
        "df0['District'].unique"
      ]
    },
    {
      "cell_type": "code",
      "execution_count": 196,
      "metadata": {
        "id": "zR9qyVfuVyEd"
      },
      "outputs": [],
      "source": [
        "path = '/content/transport.csv'\n",
        "df2 = pd.read_csv(path,encoding = 'unicode_escape',index_col=None, header =0)\n",
        "df2['Date'] = pd.to_datetime(df2['Date'])"
      ]
    },
    {
      "cell_type": "markdown",
      "metadata": {
        "id": "c0YRNzty7RR2"
      },
      "source": [
        "Since we are asked to take out information district wise, we are  focusing on 1 District at a time. The following steps can be repeated for all the districts"
      ]
    },
    {
      "cell_type": "code",
      "execution_count": null,
      "metadata": {
        "id": "B64_9DLHJX-t"
      },
      "outputs": [],
      "source": [
        "df1 = df0[(df0.District == 'Adilabad')]"
      ]
    },
    {
      "cell_type": "code",
      "execution_count": 197,
      "metadata": {
        "colab": {
          "base_uri": "https://localhost:8080/",
          "height": 354
        },
        "id": "C-Z-tEw_9tyR",
        "outputId": "23bd8c06-5c34-475d-b05a-874524dd4e0e"
      },
      "outputs": [
        {
          "output_type": "execute_result",
          "data": {
            "text/plain": [
              "   District            Mandal       Date  Rainfall (mm)  temp_min (â°C)  \\\n",
              "0  Adilabad  Adilabad (Urban) 2019-04-01            0.0             25.3   \n",
              "1  Adilabad  Adilabad (Urban) 2019-04-02            0.0             23.9   \n",
              "2  Adilabad  Adilabad (Urban) 2019-04-03            0.0             27.0   \n",
              "3  Adilabad  Adilabad (Urban) 2019-04-04            0.0             28.0   \n",
              "4  Adilabad  Adilabad (Urban) 2019-04-05            0.0             25.9   \n",
              "\n",
              "   temp_max (â°C) humidity_min (%)  Humidity_max (%)  wind_speed_min (Kmph)  \\\n",
              "0             42.5             12.2              42.8                    0.0   \n",
              "1             42.2             14.7              19.5                    0.3   \n",
              "2             41.5               16              50.5                    0.2   \n",
              "3             41.4             15.8              59.2                    0.3   \n",
              "4             40.6             20.4              49.5                    0.0   \n",
              "\n",
              "   wind_speed_max (Kmph)  \n",
              "0                    2.8  \n",
              "1                    2.6  \n",
              "2                    1.8  \n",
              "3                    3.0  \n",
              "4                    2.9  "
            ],
            "text/html": [
              "\n",
              "  <div id=\"df-1f7a3c33-d5ad-4dad-ba50-d5705d69c5d2\">\n",
              "    <div class=\"colab-df-container\">\n",
              "      <div>\n",
              "<style scoped>\n",
              "    .dataframe tbody tr th:only-of-type {\n",
              "        vertical-align: middle;\n",
              "    }\n",
              "\n",
              "    .dataframe tbody tr th {\n",
              "        vertical-align: top;\n",
              "    }\n",
              "\n",
              "    .dataframe thead th {\n",
              "        text-align: right;\n",
              "    }\n",
              "</style>\n",
              "<table border=\"1\" class=\"dataframe\">\n",
              "  <thead>\n",
              "    <tr style=\"text-align: right;\">\n",
              "      <th></th>\n",
              "      <th>District</th>\n",
              "      <th>Mandal</th>\n",
              "      <th>Date</th>\n",
              "      <th>Rainfall (mm)</th>\n",
              "      <th>temp_min (â°C)</th>\n",
              "      <th>temp_max (â°C)</th>\n",
              "      <th>humidity_min (%)</th>\n",
              "      <th>Humidity_max (%)</th>\n",
              "      <th>wind_speed_min (Kmph)</th>\n",
              "      <th>wind_speed_max (Kmph)</th>\n",
              "    </tr>\n",
              "  </thead>\n",
              "  <tbody>\n",
              "    <tr>\n",
              "      <th>0</th>\n",
              "      <td>Adilabad</td>\n",
              "      <td>Adilabad (Urban)</td>\n",
              "      <td>2019-04-01</td>\n",
              "      <td>0.0</td>\n",
              "      <td>25.3</td>\n",
              "      <td>42.5</td>\n",
              "      <td>12.2</td>\n",
              "      <td>42.8</td>\n",
              "      <td>0.0</td>\n",
              "      <td>2.8</td>\n",
              "    </tr>\n",
              "    <tr>\n",
              "      <th>1</th>\n",
              "      <td>Adilabad</td>\n",
              "      <td>Adilabad (Urban)</td>\n",
              "      <td>2019-04-02</td>\n",
              "      <td>0.0</td>\n",
              "      <td>23.9</td>\n",
              "      <td>42.2</td>\n",
              "      <td>14.7</td>\n",
              "      <td>19.5</td>\n",
              "      <td>0.3</td>\n",
              "      <td>2.6</td>\n",
              "    </tr>\n",
              "    <tr>\n",
              "      <th>2</th>\n",
              "      <td>Adilabad</td>\n",
              "      <td>Adilabad (Urban)</td>\n",
              "      <td>2019-04-03</td>\n",
              "      <td>0.0</td>\n",
              "      <td>27.0</td>\n",
              "      <td>41.5</td>\n",
              "      <td>16</td>\n",
              "      <td>50.5</td>\n",
              "      <td>0.2</td>\n",
              "      <td>1.8</td>\n",
              "    </tr>\n",
              "    <tr>\n",
              "      <th>3</th>\n",
              "      <td>Adilabad</td>\n",
              "      <td>Adilabad (Urban)</td>\n",
              "      <td>2019-04-04</td>\n",
              "      <td>0.0</td>\n",
              "      <td>28.0</td>\n",
              "      <td>41.4</td>\n",
              "      <td>15.8</td>\n",
              "      <td>59.2</td>\n",
              "      <td>0.3</td>\n",
              "      <td>3.0</td>\n",
              "    </tr>\n",
              "    <tr>\n",
              "      <th>4</th>\n",
              "      <td>Adilabad</td>\n",
              "      <td>Adilabad (Urban)</td>\n",
              "      <td>2019-04-05</td>\n",
              "      <td>0.0</td>\n",
              "      <td>25.9</td>\n",
              "      <td>40.6</td>\n",
              "      <td>20.4</td>\n",
              "      <td>49.5</td>\n",
              "      <td>0.0</td>\n",
              "      <td>2.9</td>\n",
              "    </tr>\n",
              "  </tbody>\n",
              "</table>\n",
              "</div>\n",
              "      <button class=\"colab-df-convert\" onclick=\"convertToInteractive('df-1f7a3c33-d5ad-4dad-ba50-d5705d69c5d2')\"\n",
              "              title=\"Convert this dataframe to an interactive table.\"\n",
              "              style=\"display:none;\">\n",
              "        \n",
              "  <svg xmlns=\"http://www.w3.org/2000/svg\" height=\"24px\"viewBox=\"0 0 24 24\"\n",
              "       width=\"24px\">\n",
              "    <path d=\"M0 0h24v24H0V0z\" fill=\"none\"/>\n",
              "    <path d=\"M18.56 5.44l.94 2.06.94-2.06 2.06-.94-2.06-.94-.94-2.06-.94 2.06-2.06.94zm-11 1L8.5 8.5l.94-2.06 2.06-.94-2.06-.94L8.5 2.5l-.94 2.06-2.06.94zm10 10l.94 2.06.94-2.06 2.06-.94-2.06-.94-.94-2.06-.94 2.06-2.06.94z\"/><path d=\"M17.41 7.96l-1.37-1.37c-.4-.4-.92-.59-1.43-.59-.52 0-1.04.2-1.43.59L10.3 9.45l-7.72 7.72c-.78.78-.78 2.05 0 2.83L4 21.41c.39.39.9.59 1.41.59.51 0 1.02-.2 1.41-.59l7.78-7.78 2.81-2.81c.8-.78.8-2.07 0-2.86zM5.41 20L4 18.59l7.72-7.72 1.47 1.35L5.41 20z\"/>\n",
              "  </svg>\n",
              "      </button>\n",
              "      \n",
              "  <style>\n",
              "    .colab-df-container {\n",
              "      display:flex;\n",
              "      flex-wrap:wrap;\n",
              "      gap: 12px;\n",
              "    }\n",
              "\n",
              "    .colab-df-convert {\n",
              "      background-color: #E8F0FE;\n",
              "      border: none;\n",
              "      border-radius: 50%;\n",
              "      cursor: pointer;\n",
              "      display: none;\n",
              "      fill: #1967D2;\n",
              "      height: 32px;\n",
              "      padding: 0 0 0 0;\n",
              "      width: 32px;\n",
              "    }\n",
              "\n",
              "    .colab-df-convert:hover {\n",
              "      background-color: #E2EBFA;\n",
              "      box-shadow: 0px 1px 2px rgba(60, 64, 67, 0.3), 0px 1px 3px 1px rgba(60, 64, 67, 0.15);\n",
              "      fill: #174EA6;\n",
              "    }\n",
              "\n",
              "    [theme=dark] .colab-df-convert {\n",
              "      background-color: #3B4455;\n",
              "      fill: #D2E3FC;\n",
              "    }\n",
              "\n",
              "    [theme=dark] .colab-df-convert:hover {\n",
              "      background-color: #434B5C;\n",
              "      box-shadow: 0px 1px 3px 1px rgba(0, 0, 0, 0.15);\n",
              "      filter: drop-shadow(0px 1px 2px rgba(0, 0, 0, 0.3));\n",
              "      fill: #FFFFFF;\n",
              "    }\n",
              "  </style>\n",
              "\n",
              "      <script>\n",
              "        const buttonEl =\n",
              "          document.querySelector('#df-1f7a3c33-d5ad-4dad-ba50-d5705d69c5d2 button.colab-df-convert');\n",
              "        buttonEl.style.display =\n",
              "          google.colab.kernel.accessAllowed ? 'block' : 'none';\n",
              "\n",
              "        async function convertToInteractive(key) {\n",
              "          const element = document.querySelector('#df-1f7a3c33-d5ad-4dad-ba50-d5705d69c5d2');\n",
              "          const dataTable =\n",
              "            await google.colab.kernel.invokeFunction('convertToInteractive',\n",
              "                                                     [key], {});\n",
              "          if (!dataTable) return;\n",
              "\n",
              "          const docLinkHtml = 'Like what you see? Visit the ' +\n",
              "            '<a target=\"_blank\" href=https://colab.research.google.com/notebooks/data_table.ipynb>data table notebook</a>'\n",
              "            + ' to learn more about interactive tables.';\n",
              "          element.innerHTML = '';\n",
              "          dataTable['output_type'] = 'display_data';\n",
              "          await google.colab.output.renderOutput(dataTable, element);\n",
              "          const docLink = document.createElement('div');\n",
              "          docLink.innerHTML = docLinkHtml;\n",
              "          element.appendChild(docLink);\n",
              "        }\n",
              "      </script>\n",
              "    </div>\n",
              "  </div>\n",
              "  "
            ]
          },
          "metadata": {},
          "execution_count": 197
        }
      ],
      "source": [
        "df1.head()"
      ]
    },
    {
      "cell_type": "markdown",
      "metadata": {
        "id": "Cy6KaKTI7hXs"
      },
      "source": [
        "**Pre-Processing Of Data**"
      ]
    },
    {
      "cell_type": "code",
      "execution_count": 198,
      "metadata": {
        "id": "2XisLoFyV03w"
      },
      "outputs": [],
      "source": [
        "df3= pd.merge(df1,df2,on='Date')"
      ]
    },
    {
      "cell_type": "code",
      "execution_count": 199,
      "metadata": {
        "colab": {
          "base_uri": "https://localhost:8080/"
        },
        "id": "E2Ns7OpOZM02",
        "outputId": "2685c73e-c676-4e96-f389-8139d4c3a9f1"
      },
      "outputs": [
        {
          "output_type": "execute_result",
          "data": {
            "text/plain": [
              "Index(['District', 'Mandal', 'Date', 'Rainfall (mm)', 'temp_min (â°C)',\n",
              "       'temp_max (â°C)', 'humidity_min (%)', 'Humidity_max (%)',\n",
              "       'wind_speed_min (Kmph)', 'wind_speed_max (Kmph)', 'Unnamed: 0',\n",
              "       'No. of Diesel cars'],\n",
              "      dtype='object')"
            ]
          },
          "metadata": {},
          "execution_count": 199
        }
      ],
      "source": [
        "df3.columns"
      ]
    },
    {
      "cell_type": "code",
      "execution_count": 200,
      "metadata": {
        "id": "JxsB6rh_8sS6"
      },
      "outputs": [],
      "source": [
        "del df3['Unnamed: 0']"
      ]
    },
    {
      "cell_type": "code",
      "execution_count": 201,
      "metadata": {
        "id": "0gr_GhHUeTCb"
      },
      "outputs": [],
      "source": [
        "df3['Date'] = pd.to_datetime(df3['Date'])"
      ]
    },
    {
      "cell_type": "code",
      "execution_count": 202,
      "metadata": {
        "id": "g7ABLWt858Lr"
      },
      "outputs": [],
      "source": [
        "#Since we don't require information of mandals, we group the entire data according to the dates.\n",
        "df3=df3.groupby(['Date']).mean()"
      ]
    },
    {
      "cell_type": "code",
      "execution_count": 203,
      "metadata": {
        "colab": {
          "base_uri": "https://localhost:8080/"
        },
        "id": "thIsIYHn9QC-",
        "outputId": "fa67acba-bd1c-4d94-fff3-28a52767fcff"
      },
      "outputs": [
        {
          "output_type": "execute_result",
          "data": {
            "text/plain": [
              "Index(['Rainfall (mm)', 'temp_min (â°C)', 'temp_max (â°C)',\n",
              "       'Humidity_max (%)', 'wind_speed_min (Kmph)', 'wind_speed_max (Kmph)',\n",
              "       'No. of Diesel cars'],\n",
              "      dtype='object')"
            ]
          },
          "metadata": {},
          "execution_count": 203
        }
      ],
      "source": [
        "df3.columns\n"
      ]
    },
    {
      "cell_type": "code",
      "execution_count": null,
      "metadata": {
        "id": "Cm_0FHkl8p9C"
      },
      "outputs": [],
      "source": [
        "newdf=df3[['Rainfall (mm)', 'temp_min (â°C)',\n",
        "       'temp_max (â°C)', 'Humidity_max (%)',\n",
        "       'wind_speed_min (Kmph)', 'wind_speed_max (Kmph)',\n",
        "       'No. of Diesel cars']]"
      ]
    },
    {
      "cell_type": "code",
      "execution_count": null,
      "metadata": {
        "colab": {
          "base_uri": "https://localhost:8080/",
          "height": 488
        },
        "id": "UawSMnf-7n4e",
        "outputId": "b32c929f-e028-48fb-998a-7c44a2a17a35"
      },
      "outputs": [
        {
          "name": "stderr",
          "output_type": "stream",
          "text": [
            "/usr/local/lib/python3.8/dist-packages/seaborn/utils.py:95: UserWarning: Glyph 129 (\\x81) missing from current font.\n",
            "  fig.canvas.draw()\n",
            "/usr/local/lib/python3.8/dist-packages/IPython/core/events.py:88: UserWarning: Glyph 129 (\\x81) missing from current font.\n",
            "  func(*args, **kwargs)\n",
            "/usr/local/lib/python3.8/dist-packages/IPython/core/pylabtools.py:128: UserWarning: Glyph 129 (\\x81) missing from current font.\n",
            "  fig.canvas.print_figure(bytes_io, **kw)\n"
          ]
        },
        {
          "data": {
            "image/png": "[encoded data removed]",
            "text/plain": [
              "<Figure size 432x288 with 2 Axes>"
            ]
          },
          "metadata": {},
          "output_type": "display_data"
        }
      ],
      "source": [
        "\n",
        "dataplot = sb.heatmap(abs(newdf.corr()), cmap=\"Greens\", annot=True)\n"
      ]
    },
    {
      "cell_type": "markdown",
      "metadata": {
        "id": "T_GSxTyjZYFP"
      },
      "source": [
        "MODEL BUILDING USING **LSTM**"
      ]
    },
    {
      "cell_type": "code",
      "execution_count": null,
      "metadata": {
        "id": "PotcgeXKVRQR"
      },
      "outputs": [],
      "source": [
        "# Calculate the temperature difference\n",
        "delta_temp = df3['temp_max (â°C)']\n",
        "\n",
        "# Set the value of heatwave based on delta_temp\n",
        "df3['heatwave'] = (delta_temp>=40).astype(int)\n",
        "\n",
        "# Replace the NaN value in the first row of heatwave with 0\n",
        "df3.loc[df3.index[8], 'heatwave'] = 0\n",
        "#exporting  new data to manually confirm the heatwave occurence\n",
        "df3.to_csv('data_with_heatwave.csv', index=False)"
      ]
    },
    {
      "cell_type": "code",
      "execution_count": null,
      "metadata": {
        "colab": {
          "base_uri": "https://localhost:8080/"
        },
        "id": "aQnG3HCvTXTO",
        "outputId": "f22eccb5-a18f-4f91-9aca-883ee22bc0fe"
      },
      "outputs": [
        {
          "output_type": "stream",
          "name": "stdout",
          "text": [
            "Epoch 1/100\n",
            "22/22 [==============================] - 9s 62ms/step - loss: 0.6654 - accuracy: 0.8248 - val_loss: 0.6096 - val_accuracy: 0.9702\n",
            "Epoch 2/100\n",
            "22/22 [==============================] - 0s 8ms/step - loss: 0.5702 - accuracy: 0.8846 - val_loss: 0.4383 - val_accuracy: 0.9702\n",
            "Epoch 3/100\n",
            "22/22 [==============================] - 0s 8ms/step - loss: 0.4278 - accuracy: 0.8846 - val_loss: 0.2287 - val_accuracy: 0.9702\n",
            "Epoch 4/100\n",
            "22/22 [==============================] - 0s 11ms/step - loss: 0.3718 - accuracy: 0.8846 - val_loss: 0.1973 - val_accuracy: 0.9702\n",
            "Epoch 5/100\n",
            "22/22 [==============================] - 0s 8ms/step - loss: 0.3669 - accuracy: 0.8846 - val_loss: 0.2016 - val_accuracy: 0.9702\n",
            "Epoch 6/100\n",
            "22/22 [==============================] - 0s 10ms/step - loss: 0.3633 - accuracy: 0.8846 - val_loss: 0.1998 - val_accuracy: 0.9702\n",
            "Epoch 7/100\n",
            "22/22 [==============================] - 0s 14ms/step - loss: 0.3600 - accuracy: 0.8846 - val_loss: 0.2009 - val_accuracy: 0.9702\n",
            "Epoch 8/100\n",
            "22/22 [==============================] - 0s 10ms/step - loss: 0.3571 - accuracy: 0.8846 - val_loss: 0.2044 - val_accuracy: 0.9702\n",
            "Epoch 9/100\n",
            "22/22 [==============================] - 0s 17ms/step - loss: 0.3546 - accuracy: 0.8846 - val_loss: 0.2071 - val_accuracy: 0.9702\n",
            "Epoch 10/100\n",
            "22/22 [==============================] - 0s 11ms/step - loss: 0.3513 - accuracy: 0.8846 - val_loss: 0.1999 - val_accuracy: 0.9702\n",
            "Epoch 11/100\n",
            "22/22 [==============================] - 0s 12ms/step - loss: 0.3478 - accuracy: 0.8846 - val_loss: 0.1980 - val_accuracy: 0.9702\n",
            "Epoch 12/100\n",
            "22/22 [==============================] - 0s 10ms/step - loss: 0.3439 - accuracy: 0.8846 - val_loss: 0.2043 - val_accuracy: 0.9702\n",
            "Epoch 13/100\n",
            "22/22 [==============================] - 0s 13ms/step - loss: 0.3403 - accuracy: 0.8846 - val_loss: 0.1996 - val_accuracy: 0.9702\n",
            "Epoch 14/100\n",
            "22/22 [==============================] - 0s 11ms/step - loss: 0.3360 - accuracy: 0.8846 - val_loss: 0.2109 - val_accuracy: 0.9702\n",
            "Epoch 15/100\n",
            "22/22 [==============================] - 0s 17ms/step - loss: 0.3322 - accuracy: 0.8846 - val_loss: 0.1986 - val_accuracy: 0.9702\n",
            "Epoch 16/100\n",
            "22/22 [==============================] - 0s 14ms/step - loss: 0.3258 - accuracy: 0.8846 - val_loss: 0.2104 - val_accuracy: 0.9702\n",
            "Epoch 17/100\n",
            "22/22 [==============================] - 0s 15ms/step - loss: 0.3206 - accuracy: 0.8846 - val_loss: 0.2149 - val_accuracy: 0.9702\n",
            "Epoch 18/100\n",
            "22/22 [==============================] - 0s 15ms/step - loss: 0.3139 - accuracy: 0.8846 - val_loss: 0.2087 - val_accuracy: 0.9702\n",
            "Epoch 19/100\n",
            "22/22 [==============================] - 0s 10ms/step - loss: 0.3086 - accuracy: 0.8846 - val_loss: 0.2124 - val_accuracy: 0.9669\n",
            "Epoch 20/100\n",
            "22/22 [==============================] - 0s 21ms/step - loss: 0.3009 - accuracy: 0.8846 - val_loss: 0.2138 - val_accuracy: 0.9669\n",
            "Epoch 21/100\n",
            "22/22 [==============================] - 0s 9ms/step - loss: 0.2935 - accuracy: 0.8846 - val_loss: 0.2162 - val_accuracy: 0.9636\n",
            "Epoch 22/100\n",
            "22/22 [==============================] - 0s 12ms/step - loss: 0.2870 - accuracy: 0.8860 - val_loss: 0.2094 - val_accuracy: 0.9636\n",
            "Epoch 23/100\n",
            "22/22 [==============================] - 0s 16ms/step - loss: 0.2842 - accuracy: 0.8846 - val_loss: 0.2104 - val_accuracy: 0.9603\n",
            "Epoch 24/100\n",
            "22/22 [==============================] - 0s 16ms/step - loss: 0.2800 - accuracy: 0.8846 - val_loss: 0.2254 - val_accuracy: 0.9570\n",
            "Epoch 25/100\n",
            "22/22 [==============================] - 1s 24ms/step - loss: 0.2731 - accuracy: 0.8832 - val_loss: 0.2167 - val_accuracy: 0.9570\n",
            "Epoch 26/100\n",
            "22/22 [==============================] - 0s 19ms/step - loss: 0.2690 - accuracy: 0.8846 - val_loss: 0.2295 - val_accuracy: 0.9470\n",
            "Epoch 27/100\n",
            "22/22 [==============================] - 0s 18ms/step - loss: 0.2659 - accuracy: 0.8818 - val_loss: 0.2270 - val_accuracy: 0.9470\n",
            "Epoch 28/100\n",
            "22/22 [==============================] - 0s 21ms/step - loss: 0.2647 - accuracy: 0.8832 - val_loss: 0.2360 - val_accuracy: 0.9404\n",
            "Epoch 29/100\n",
            "22/22 [==============================] - 0s 18ms/step - loss: 0.2611 - accuracy: 0.8803 - val_loss: 0.2192 - val_accuracy: 0.9437\n",
            "Epoch 30/100\n",
            "22/22 [==============================] - 0s 18ms/step - loss: 0.2583 - accuracy: 0.8832 - val_loss: 0.2246 - val_accuracy: 0.9371\n",
            "Epoch 31/100\n",
            "22/22 [==============================] - 0s 16ms/step - loss: 0.2566 - accuracy: 0.8789 - val_loss: 0.2104 - val_accuracy: 0.9404\n",
            "Epoch 32/100\n",
            "22/22 [==============================] - 0s 9ms/step - loss: 0.2541 - accuracy: 0.8832 - val_loss: 0.2203 - val_accuracy: 0.9338\n",
            "Epoch 33/100\n",
            "22/22 [==============================] - 0s 8ms/step - loss: 0.2531 - accuracy: 0.8818 - val_loss: 0.2175 - val_accuracy: 0.9338\n",
            "Epoch 34/100\n",
            "22/22 [==============================] - 0s 10ms/step - loss: 0.2514 - accuracy: 0.8846 - val_loss: 0.2245 - val_accuracy: 0.9106\n",
            "Epoch 35/100\n",
            "22/22 [==============================] - 0s 10ms/step - loss: 0.2509 - accuracy: 0.8803 - val_loss: 0.2272 - val_accuracy: 0.9073\n",
            "Epoch 36/100\n",
            "22/22 [==============================] - 0s 10ms/step - loss: 0.2493 - accuracy: 0.8775 - val_loss: 0.2466 - val_accuracy: 0.9007\n",
            "Epoch 37/100\n",
            "22/22 [==============================] - 0s 10ms/step - loss: 0.2494 - accuracy: 0.8775 - val_loss: 0.2190 - val_accuracy: 0.9106\n",
            "Epoch 38/100\n",
            "22/22 [==============================] - 0s 9ms/step - loss: 0.2457 - accuracy: 0.8832 - val_loss: 0.2219 - val_accuracy: 0.9040\n",
            "Epoch 39/100\n",
            "22/22 [==============================] - 0s 9ms/step - loss: 0.2473 - accuracy: 0.8846 - val_loss: 0.2034 - val_accuracy: 0.9338\n",
            "Epoch 40/100\n",
            "22/22 [==============================] - 0s 10ms/step - loss: 0.2425 - accuracy: 0.8803 - val_loss: 0.2336 - val_accuracy: 0.9007\n",
            "Epoch 41/100\n",
            "22/22 [==============================] - 0s 8ms/step - loss: 0.2410 - accuracy: 0.8789 - val_loss: 0.2145 - val_accuracy: 0.9106\n",
            "Epoch 42/100\n",
            "22/22 [==============================] - 0s 8ms/step - loss: 0.2401 - accuracy: 0.8803 - val_loss: 0.2089 - val_accuracy: 0.9106\n",
            "Epoch 43/100\n",
            "22/22 [==============================] - 0s 10ms/step - loss: 0.2386 - accuracy: 0.8832 - val_loss: 0.2259 - val_accuracy: 0.9007\n",
            "Epoch 44/100\n",
            "22/22 [==============================] - 0s 10ms/step - loss: 0.2387 - accuracy: 0.8789 - val_loss: 0.2243 - val_accuracy: 0.9007\n",
            "Epoch 45/100\n",
            "22/22 [==============================] - 0s 10ms/step - loss: 0.2379 - accuracy: 0.8860 - val_loss: 0.1996 - val_accuracy: 0.9238\n",
            "Epoch 46/100\n",
            "22/22 [==============================] - 0s 9ms/step - loss: 0.2365 - accuracy: 0.8789 - val_loss: 0.2330 - val_accuracy: 0.9007\n",
            "Epoch 47/100\n",
            "22/22 [==============================] - 0s 8ms/step - loss: 0.2353 - accuracy: 0.8803 - val_loss: 0.2104 - val_accuracy: 0.9106\n",
            "Epoch 48/100\n",
            "22/22 [==============================] - 0s 8ms/step - loss: 0.2363 - accuracy: 0.8775 - val_loss: 0.1974 - val_accuracy: 0.9272\n",
            "Epoch 49/100\n",
            "22/22 [==============================] - 0s 10ms/step - loss: 0.2320 - accuracy: 0.8846 - val_loss: 0.2467 - val_accuracy: 0.8808\n",
            "Epoch 50/100\n",
            "22/22 [==============================] - 0s 8ms/step - loss: 0.2314 - accuracy: 0.8932 - val_loss: 0.2048 - val_accuracy: 0.9106\n",
            "Epoch 51/100\n",
            "22/22 [==============================] - 0s 10ms/step - loss: 0.2318 - accuracy: 0.8803 - val_loss: 0.2158 - val_accuracy: 0.9007\n",
            "Epoch 52/100\n",
            "22/22 [==============================] - 0s 8ms/step - loss: 0.2312 - accuracy: 0.8818 - val_loss: 0.2059 - val_accuracy: 0.9139\n",
            "Epoch 53/100\n",
            "22/22 [==============================] - 0s 9ms/step - loss: 0.2296 - accuracy: 0.8818 - val_loss: 0.2131 - val_accuracy: 0.9040\n",
            "Epoch 54/100\n",
            "22/22 [==============================] - 0s 10ms/step - loss: 0.2307 - accuracy: 0.8803 - val_loss: 0.2144 - val_accuracy: 0.9040\n",
            "Epoch 55/100\n",
            "22/22 [==============================] - 0s 8ms/step - loss: 0.2291 - accuracy: 0.8875 - val_loss: 0.2067 - val_accuracy: 0.9073\n",
            "Epoch 56/100\n",
            "22/22 [==============================] - 0s 8ms/step - loss: 0.2266 - accuracy: 0.8932 - val_loss: 0.2311 - val_accuracy: 0.8841\n",
            "Epoch 57/100\n",
            "22/22 [==============================] - 0s 10ms/step - loss: 0.2292 - accuracy: 0.8932 - val_loss: 0.2085 - val_accuracy: 0.9106\n",
            "Epoch 58/100\n",
            "22/22 [==============================] - 0s 8ms/step - loss: 0.2253 - accuracy: 0.8860 - val_loss: 0.2278 - val_accuracy: 0.8874\n",
            "Epoch 59/100\n",
            "22/22 [==============================] - 0s 8ms/step - loss: 0.2260 - accuracy: 0.8875 - val_loss: 0.2198 - val_accuracy: 0.9007\n",
            "Epoch 60/100\n",
            "22/22 [==============================] - 0s 8ms/step - loss: 0.2266 - accuracy: 0.8917 - val_loss: 0.2082 - val_accuracy: 0.9073\n",
            "Epoch 61/100\n",
            "22/22 [==============================] - 0s 10ms/step - loss: 0.2296 - accuracy: 0.8875 - val_loss: 0.2648 - val_accuracy: 0.8411\n",
            "Epoch 62/100\n",
            "22/22 [==============================] - 0s 10ms/step - loss: 0.2303 - accuracy: 0.8789 - val_loss: 0.1854 - val_accuracy: 0.9371\n",
            "Epoch 63/100\n",
            "22/22 [==============================] - 0s 8ms/step - loss: 0.2247 - accuracy: 0.8818 - val_loss: 0.2095 - val_accuracy: 0.9040\n",
            "Epoch 64/100\n",
            "22/22 [==============================] - 0s 10ms/step - loss: 0.2224 - accuracy: 0.8903 - val_loss: 0.2408 - val_accuracy: 0.8642\n",
            "Epoch 65/100\n",
            "22/22 [==============================] - 0s 9ms/step - loss: 0.2212 - accuracy: 0.8932 - val_loss: 0.1935 - val_accuracy: 0.9272\n",
            "Epoch 66/100\n",
            "22/22 [==============================] - 0s 9ms/step - loss: 0.2250 - accuracy: 0.8860 - val_loss: 0.1965 - val_accuracy: 0.9238\n",
            "Epoch 67/100\n",
            "22/22 [==============================] - 0s 11ms/step - loss: 0.2208 - accuracy: 0.8875 - val_loss: 0.2274 - val_accuracy: 0.8841\n",
            "Epoch 68/100\n",
            "22/22 [==============================] - 0s 11ms/step - loss: 0.2248 - accuracy: 0.8846 - val_loss: 0.2243 - val_accuracy: 0.8841\n",
            "Epoch 69/100\n",
            "22/22 [==============================] - 0s 12ms/step - loss: 0.2244 - accuracy: 0.8932 - val_loss: 0.1522 - val_accuracy: 0.9636\n",
            "Epoch 70/100\n",
            "22/22 [==============================] - 0s 12ms/step - loss: 0.2292 - accuracy: 0.8846 - val_loss: 0.2422 - val_accuracy: 0.8543\n",
            "Epoch 71/100\n",
            "22/22 [==============================] - 0s 9ms/step - loss: 0.2162 - accuracy: 0.8989 - val_loss: 0.1649 - val_accuracy: 0.9503\n",
            "Epoch 72/100\n",
            "22/22 [==============================] - 0s 8ms/step - loss: 0.2290 - accuracy: 0.8932 - val_loss: 0.2131 - val_accuracy: 0.8974\n",
            "Epoch 73/100\n",
            "22/22 [==============================] - 0s 10ms/step - loss: 0.2193 - accuracy: 0.8903 - val_loss: 0.1980 - val_accuracy: 0.9238\n",
            "Epoch 74/100\n",
            "22/22 [==============================] - 0s 16ms/step - loss: 0.2212 - accuracy: 0.8846 - val_loss: 0.1908 - val_accuracy: 0.9338\n",
            "Epoch 75/100\n",
            "22/22 [==============================] - 0s 15ms/step - loss: 0.2231 - accuracy: 0.8946 - val_loss: 0.1664 - val_accuracy: 0.9536\n",
            "Epoch 76/100\n",
            "22/22 [==============================] - 1s 28ms/step - loss: 0.2267 - accuracy: 0.8917 - val_loss: 0.2135 - val_accuracy: 0.8940\n",
            "Epoch 77/100\n",
            "22/22 [==============================] - 1s 33ms/step - loss: 0.2188 - accuracy: 0.8860 - val_loss: 0.2146 - val_accuracy: 0.8907\n",
            "Epoch 78/100\n",
            "22/22 [==============================] - 1s 43ms/step - loss: 0.2192 - accuracy: 0.8860 - val_loss: 0.2401 - val_accuracy: 0.8510\n",
            "Epoch 79/100\n",
            "22/22 [==============================] - 1s 35ms/step - loss: 0.2188 - accuracy: 0.8960 - val_loss: 0.2070 - val_accuracy: 0.9073\n",
            "Epoch 80/100\n",
            "22/22 [==============================] - 1s 37ms/step - loss: 0.2186 - accuracy: 0.8889 - val_loss: 0.2047 - val_accuracy: 0.9073\n",
            "Epoch 81/100\n",
            "22/22 [==============================] - 1s 43ms/step - loss: 0.2156 - accuracy: 0.8974 - val_loss: 0.2005 - val_accuracy: 0.9139\n",
            "Epoch 82/100\n",
            "22/22 [==============================] - 1s 30ms/step - loss: 0.2157 - accuracy: 0.8875 - val_loss: 0.2165 - val_accuracy: 0.8907\n",
            "Epoch 83/100\n",
            "22/22 [==============================] - 1s 34ms/step - loss: 0.2169 - accuracy: 0.8903 - val_loss: 0.2557 - val_accuracy: 0.8377\n",
            "Epoch 84/100\n",
            "22/22 [==============================] - 1s 33ms/step - loss: 0.2187 - accuracy: 0.8932 - val_loss: 0.1750 - val_accuracy: 0.9437\n",
            "Epoch 85/100\n",
            "22/22 [==============================] - 1s 36ms/step - loss: 0.2159 - accuracy: 0.8974 - val_loss: 0.2267 - val_accuracy: 0.8709\n",
            "Epoch 86/100\n",
            "22/22 [==============================] - 0s 22ms/step - loss: 0.2168 - accuracy: 0.8960 - val_loss: 0.2734 - val_accuracy: 0.8212\n",
            "Epoch 87/100\n",
            "22/22 [==============================] - 0s 13ms/step - loss: 0.2229 - accuracy: 0.8761 - val_loss: 0.1835 - val_accuracy: 0.9371\n",
            "Epoch 88/100\n",
            "22/22 [==============================] - 0s 12ms/step - loss: 0.2160 - accuracy: 0.8917 - val_loss: 0.1925 - val_accuracy: 0.9305\n",
            "Epoch 89/100\n",
            "22/22 [==============================] - 0s 10ms/step - loss: 0.2158 - accuracy: 0.8875 - val_loss: 0.2315 - val_accuracy: 0.8543\n",
            "Epoch 90/100\n",
            "22/22 [==============================] - 0s 11ms/step - loss: 0.2147 - accuracy: 0.8917 - val_loss: 0.2129 - val_accuracy: 0.8874\n",
            "Epoch 91/100\n",
            "22/22 [==============================] - 0s 11ms/step - loss: 0.2137 - accuracy: 0.8960 - val_loss: 0.2176 - val_accuracy: 0.8874\n",
            "Epoch 92/100\n",
            "22/22 [==============================] - 0s 10ms/step - loss: 0.2132 - accuracy: 0.8946 - val_loss: 0.1856 - val_accuracy: 0.9404\n",
            "Epoch 93/100\n",
            "22/22 [==============================] - 0s 9ms/step - loss: 0.2134 - accuracy: 0.8960 - val_loss: 0.2206 - val_accuracy: 0.8874\n",
            "Epoch 94/100\n",
            "22/22 [==============================] - 0s 12ms/step - loss: 0.2118 - accuracy: 0.8917 - val_loss: 0.1963 - val_accuracy: 0.9139\n",
            "Epoch 95/100\n",
            "22/22 [==============================] - 0s 11ms/step - loss: 0.2133 - accuracy: 0.8889 - val_loss: 0.1992 - val_accuracy: 0.9139\n",
            "Epoch 96/100\n",
            "22/22 [==============================] - 0s 10ms/step - loss: 0.2132 - accuracy: 0.8932 - val_loss: 0.2246 - val_accuracy: 0.8642\n",
            "Epoch 97/100\n",
            "22/22 [==============================] - 0s 12ms/step - loss: 0.2165 - accuracy: 0.8903 - val_loss: 0.2171 - val_accuracy: 0.8874\n",
            "Epoch 98/100\n",
            "22/22 [==============================] - 0s 11ms/step - loss: 0.2113 - accuracy: 0.8917 - val_loss: 0.2118 - val_accuracy: 0.8907\n",
            "Epoch 99/100\n",
            "22/22 [==============================] - 0s 9ms/step - loss: 0.2138 - accuracy: 0.8932 - val_loss: 0.1782 - val_accuracy: 0.9437\n",
            "Epoch 100/100\n",
            "22/22 [==============================] - 0s 8ms/step - loss: 0.2141 - accuracy: 0.8889 - val_loss: 0.1762 - val_accuracy: 0.9437\n",
            "10/10 [==============================] - 2s 6ms/step\n",
            "Test accuracy: 0.970\n",
            "RMSE: 0.17263060129453078\n"
          ]
        }
      ],
      "source": [
        "from sklearn.preprocessing import MinMaxScaler\n",
        "from keras.models import Sequential\n",
        "from keras.layers import LSTM, Dense\n",
        "from keras.optimizers import Adam\n",
        "from sklearn.metrics import accuracy_score\n",
        "\n",
        "# Add a new column for change in temperature\n",
        "df3['delta_temp'] = df3['temp_max (â°C)'].diff()\n",
        "\n",
        "\n",
        "# Split the dataframe into features and target variable\n",
        "X = df3.drop(['heatwave'], axis=1)\n",
        "X['delta_temp'] = X['delta_temp'].shift(-1)  # Shift delta_temp one row up\n",
        "X = X.dropna().values\n",
        "y = df3['heatwave'].iloc[1:].values  # Drop the first row of y\n",
        "\n",
        "# Normalize the features\n",
        "scaler = MinMaxScaler(feature_range=(0, 1))\n",
        "X = scaler.fit_transform(X)\n",
        "\n",
        "# Split the data into training and testing sets\n",
        "train_size = int(len(X) * 0.7)\n",
        "X_train, X_test = X[:train_size, :], X[train_size:, :]\n",
        "y_train, y_test2 = y[:train_size], y[train_size:]\n",
        "\n",
        "\n",
        "# Reshape the data into 3D for LSTM input\n",
        "X_train = np.reshape(X_train, (X_train.shape[0], 1, X_train.shape[1]))\n",
        "X_test = np.reshape(X_test, (X_test.shape[0], 1, X_test.shape[1]))\n",
        "# Assuming X_train and y_train have different lengths\n",
        "X_train = X_train[:len(y_train)]\n",
        "y_train = y_train[:len(X_train)]\n",
        "\n",
        "# Assuming X_test and y_test have different lengths\n",
        "X_test = X_test[:len(y_test2)]\n",
        "y_test2 = y_test2[:len(X_test)]\n",
        "\n",
        "# Define the LSTM model\n",
        "model = Sequential()\n",
        "model.add(LSTM(units=50, input_shape=(X_train.shape[1], X_train.shape[2]), activation='tanh', return_sequences=True))\n",
        "model.add(LSTM(units=50, activation='tanh'))\n",
        "model.add(Dense(units=1, activation='sigmoid'))\n",
        "\n",
        "# Compile the model\n",
        "optimizer = Adam(learning_rate=0.001)\n",
        "model.compile(optimizer=optimizer, loss='binary_crossentropy', metrics=['accuracy'])\n",
        "\n",
        "# Train the model\n",
        "history = model.fit(X_train, y_train, epochs=100, batch_size=32, validation_data=(X_test, y_test2), verbose=1)\n",
        "\n",
        "\n",
        "# Make predictions on the test data\n",
        "predict_x=model.predict(X_test) \n",
        "classes_x=np.argmax(predict_x,axis=1)\n",
        "\n",
        "# Calculate the accuracy of the predictions\n",
        "acc = accuracy_score(y_test2, classes_x)\n",
        "print(f'Test accuracy: {acc:.3f}')\n",
        "\n",
        "rmse = np.sqrt(mean_squared_error(y_test2, classes_x))\n",
        "print('RMSE:', rmse)"
      ]
    },
    {
      "cell_type": "markdown",
      "metadata": {
        "id": "uvZMQcr3Zh6A"
      },
      "source": [
        "Checking the model with min temp too"
      ]
    },
    {
      "cell_type": "code",
      "execution_count": null,
      "metadata": {
        "id": "FeRf_dzOVulN"
      },
      "outputs": [],
      "source": [
        "# Calculate the temperature difference\n",
        "delta_temp = df3['temp_min (â°C)'].diff()\n",
        "\n",
        "# Set the value of heatwave based on delta_temp\n",
        "df3['heatwave'] = (delta_temp >= 4).astype(int)\n",
        "\n",
        "# Replace the NaN value in the first row of heatwave with 0\n",
        "df3.loc[df3.index[8], 'heatwave'] = 0\n"
      ]
    },
    {
      "cell_type": "code",
      "source": [
        "from sklearn.preprocessing import MinMaxScaler\n",
        "from keras.models import Sequential\n",
        "from keras.layers import LSTM, Dense\n",
        "from keras.optimizers import Adam\n",
        "from sklearn.metrics import accuracy_score\n",
        "\n",
        "# Add a new column for change in temperature\n",
        "df3['delta_temp'] = df3['temp_min (â°C)'].diff()\n",
        "\n",
        "\n",
        "# Split the dataframe into features and target variable\n",
        "X = df3.drop(['heatwave'], axis=1)\n",
        "X['delta_temp'] = X['delta_temp'].shift(-1)  # Shift delta_temp one row up\n",
        "X = X.dropna().values\n",
        "y = df3['heatwave'].iloc[1:].values  # Drop the first row of y\n",
        "\n",
        "# Normalize the features\n",
        "scaler = MinMaxScaler(feature_range=(0, 1))\n",
        "X = scaler.fit_transform(X)\n",
        "\n",
        "# Split the data into training and testing sets\n",
        "train_size = int(len(X) * 0.7)\n",
        "X_train, X_test = X[:train_size, :], X[train_size:, :]\n",
        "y_train, y_test2 = y[:train_size], y[train_size:]\n",
        "\n",
        "\n",
        "# Reshape the data into 3D for LSTM input\n",
        "X_train = np.reshape(X_train, (X_train.shape[0], 1, X_train.shape[1]))\n",
        "X_test = np.reshape(X_test, (X_test.shape[0], 1, X_test.shape[1]))\n",
        "# Assuming X_train and y_train have different lengths\n",
        "X_train = X_train[:len(y_train)]\n",
        "y_train = y_train[:len(X_train)]\n",
        "\n",
        "# Assuming X_test and y_test have different lengths\n",
        "X_test = X_test[:len(y_test2)]\n",
        "y_test2 = y_test2[:len(X_test)]\n",
        "\n",
        "# Define the LSTM model\n",
        "model = Sequential()\n",
        "model.add(LSTM(units=50, input_shape=(X_train.shape[1], X_train.shape[2]), activation='tanh', return_sequences=True))\n",
        "model.add(LSTM(units=50, activation='tanh'))\n",
        "model.add(Dense(units=1, activation='sigmoid'))\n",
        "\n",
        "# Compile the model\n",
        "optimizer = Adam(learning_rate=0.001)\n",
        "model.compile(optimizer=optimizer, loss='binary_crossentropy', metrics=['accuracy'])\n",
        "\n",
        "# Train the model\n",
        "history = model.fit(X_train, y_train, epochs=100, batch_size=32, validation_data=(X_test, y_test2), verbose=1)\n",
        "\n",
        "\n",
        "# Make predictions on the test data\n",
        "predict_x=model.predict(X_test) \n",
        "classes_x=np.argmax(predict_x,axis=1)\n",
        "\n",
        "# Calculate the accuracy of the predictions\n",
        "acc = accuracy_score(y_test2, classes_x)\n",
        "print(f'Test accuracy: {acc:.3f}')\n",
        "\n",
        "rmse = np.sqrt(mean_squared_error(y_test2, classes_x))\n",
        "print('RMSE:', rmse)"
      ],
      "metadata": {
        "colab": {
          "base_uri": "https://localhost:8080/"
        },
        "id": "FbRrec9N7gI-",
        "outputId": "f8a074f0-29c6-404a-bacd-61132c3ac501"
      },
      "execution_count": null,
      "outputs": [
        {
          "output_type": "stream",
          "name": "stdout",
          "text": [
            "Epoch 1/100\n",
            "22/22 [==============================] - 6s 56ms/step - loss: 0.6505 - accuracy: 0.9772 - val_loss: 0.5949 - val_accuracy: 0.9967\n",
            "Epoch 2/100\n",
            "22/22 [==============================] - 0s 9ms/step - loss: 0.5128 - accuracy: 0.9801 - val_loss: 0.3886 - val_accuracy: 0.9967\n",
            "Epoch 3/100\n",
            "22/22 [==============================] - 0s 7ms/step - loss: 0.2697 - accuracy: 0.9801 - val_loss: 0.1307 - val_accuracy: 0.9967\n",
            "Epoch 4/100\n",
            "22/22 [==============================] - 0s 8ms/step - loss: 0.1233 - accuracy: 0.9801 - val_loss: 0.0460 - val_accuracy: 0.9967\n",
            "Epoch 5/100\n",
            "22/22 [==============================] - 0s 10ms/step - loss: 0.1006 - accuracy: 0.9801 - val_loss: 0.0397 - val_accuracy: 0.9967\n",
            "Epoch 6/100\n",
            "22/22 [==============================] - 0s 12ms/step - loss: 0.1009 - accuracy: 0.9801 - val_loss: 0.0353 - val_accuracy: 0.9967\n",
            "Epoch 7/100\n",
            "22/22 [==============================] - 0s 12ms/step - loss: 0.1005 - accuracy: 0.9801 - val_loss: 0.0381 - val_accuracy: 0.9967\n",
            "Epoch 8/100\n",
            "22/22 [==============================] - 0s 10ms/step - loss: 0.1004 - accuracy: 0.9801 - val_loss: 0.0377 - val_accuracy: 0.9967\n",
            "Epoch 9/100\n",
            "22/22 [==============================] - 0s 10ms/step - loss: 0.0999 - accuracy: 0.9801 - val_loss: 0.0367 - val_accuracy: 0.9967\n",
            "Epoch 10/100\n",
            "22/22 [==============================] - 0s 12ms/step - loss: 0.0999 - accuracy: 0.9801 - val_loss: 0.0381 - val_accuracy: 0.9967\n",
            "Epoch 11/100\n",
            "22/22 [==============================] - 0s 11ms/step - loss: 0.0992 - accuracy: 0.9801 - val_loss: 0.0364 - val_accuracy: 0.9967\n",
            "Epoch 12/100\n",
            "22/22 [==============================] - 0s 10ms/step - loss: 0.0989 - accuracy: 0.9801 - val_loss: 0.0356 - val_accuracy: 0.9967\n",
            "Epoch 13/100\n",
            "22/22 [==============================] - 0s 11ms/step - loss: 0.0988 - accuracy: 0.9801 - val_loss: 0.0376 - val_accuracy: 0.9967\n",
            "Epoch 14/100\n",
            "22/22 [==============================] - 0s 12ms/step - loss: 0.0984 - accuracy: 0.9801 - val_loss: 0.0361 - val_accuracy: 0.9967\n",
            "Epoch 15/100\n",
            "22/22 [==============================] - 0s 12ms/step - loss: 0.0981 - accuracy: 0.9801 - val_loss: 0.0357 - val_accuracy: 0.9967\n",
            "Epoch 16/100\n",
            "22/22 [==============================] - 0s 8ms/step - loss: 0.0992 - accuracy: 0.9801 - val_loss: 0.0326 - val_accuracy: 0.9967\n",
            "Epoch 17/100\n",
            "22/22 [==============================] - 0s 9ms/step - loss: 0.0975 - accuracy: 0.9801 - val_loss: 0.0385 - val_accuracy: 0.9967\n",
            "Epoch 18/100\n",
            "22/22 [==============================] - 0s 8ms/step - loss: 0.0975 - accuracy: 0.9801 - val_loss: 0.0373 - val_accuracy: 0.9967\n",
            "Epoch 19/100\n",
            "22/22 [==============================] - 0s 8ms/step - loss: 0.0971 - accuracy: 0.9801 - val_loss: 0.0341 - val_accuracy: 0.9967\n",
            "Epoch 20/100\n",
            "22/22 [==============================] - 0s 9ms/step - loss: 0.0972 - accuracy: 0.9801 - val_loss: 0.0360 - val_accuracy: 0.9967\n",
            "Epoch 21/100\n",
            "22/22 [==============================] - 0s 9ms/step - loss: 0.0968 - accuracy: 0.9801 - val_loss: 0.0338 - val_accuracy: 0.9967\n",
            "Epoch 22/100\n",
            "22/22 [==============================] - 0s 7ms/step - loss: 0.0963 - accuracy: 0.9801 - val_loss: 0.0351 - val_accuracy: 0.9967\n",
            "Epoch 23/100\n",
            "22/22 [==============================] - 0s 7ms/step - loss: 0.0962 - accuracy: 0.9801 - val_loss: 0.0346 - val_accuracy: 0.9967\n",
            "Epoch 24/100\n",
            "22/22 [==============================] - 0s 7ms/step - loss: 0.0962 - accuracy: 0.9801 - val_loss: 0.0346 - val_accuracy: 0.9967\n",
            "Epoch 25/100\n",
            "22/22 [==============================] - 0s 10ms/step - loss: 0.0956 - accuracy: 0.9801 - val_loss: 0.0346 - val_accuracy: 0.9967\n",
            "Epoch 26/100\n",
            "22/22 [==============================] - 0s 11ms/step - loss: 0.0959 - accuracy: 0.9801 - val_loss: 0.0350 - val_accuracy: 0.9967\n",
            "Epoch 27/100\n",
            "22/22 [==============================] - 0s 12ms/step - loss: 0.0951 - accuracy: 0.9801 - val_loss: 0.0335 - val_accuracy: 0.9967\n",
            "Epoch 28/100\n",
            "22/22 [==============================] - 0s 13ms/step - loss: 0.0953 - accuracy: 0.9801 - val_loss: 0.0341 - val_accuracy: 0.9967\n",
            "Epoch 29/100\n",
            "22/22 [==============================] - 0s 12ms/step - loss: 0.0950 - accuracy: 0.9801 - val_loss: 0.0338 - val_accuracy: 0.9967\n",
            "Epoch 30/100\n",
            "22/22 [==============================] - 0s 13ms/step - loss: 0.0947 - accuracy: 0.9801 - val_loss: 0.0329 - val_accuracy: 0.9967\n",
            "Epoch 31/100\n",
            "22/22 [==============================] - 0s 11ms/step - loss: 0.0948 - accuracy: 0.9801 - val_loss: 0.0328 - val_accuracy: 0.9967\n",
            "Epoch 32/100\n",
            "22/22 [==============================] - 0s 10ms/step - loss: 0.0947 - accuracy: 0.9801 - val_loss: 0.0350 - val_accuracy: 0.9967\n",
            "Epoch 33/100\n",
            "22/22 [==============================] - 0s 12ms/step - loss: 0.0946 - accuracy: 0.9801 - val_loss: 0.0333 - val_accuracy: 0.9967\n",
            "Epoch 34/100\n",
            "22/22 [==============================] - 0s 12ms/step - loss: 0.0951 - accuracy: 0.9801 - val_loss: 0.0314 - val_accuracy: 0.9967\n",
            "Epoch 35/100\n",
            "22/22 [==============================] - 0s 9ms/step - loss: 0.0935 - accuracy: 0.9801 - val_loss: 0.0344 - val_accuracy: 0.9967\n",
            "Epoch 36/100\n",
            "22/22 [==============================] - 0s 8ms/step - loss: 0.0949 - accuracy: 0.9801 - val_loss: 0.0335 - val_accuracy: 0.9967\n",
            "Epoch 37/100\n",
            "22/22 [==============================] - 0s 9ms/step - loss: 0.0935 - accuracy: 0.9801 - val_loss: 0.0324 - val_accuracy: 0.9967\n",
            "Epoch 38/100\n",
            "22/22 [==============================] - 0s 8ms/step - loss: 0.0933 - accuracy: 0.9801 - val_loss: 0.0326 - val_accuracy: 0.9967\n",
            "Epoch 39/100\n",
            "22/22 [==============================] - 0s 9ms/step - loss: 0.0934 - accuracy: 0.9801 - val_loss: 0.0319 - val_accuracy: 0.9967\n",
            "Epoch 40/100\n",
            "22/22 [==============================] - 0s 7ms/step - loss: 0.0931 - accuracy: 0.9801 - val_loss: 0.0331 - val_accuracy: 0.9967\n",
            "Epoch 41/100\n",
            "22/22 [==============================] - 0s 8ms/step - loss: 0.0930 - accuracy: 0.9801 - val_loss: 0.0328 - val_accuracy: 0.9967\n",
            "Epoch 42/100\n",
            "22/22 [==============================] - 0s 9ms/step - loss: 0.0932 - accuracy: 0.9801 - val_loss: 0.0321 - val_accuracy: 0.9967\n",
            "Epoch 43/100\n",
            "22/22 [==============================] - 0s 9ms/step - loss: 0.0931 - accuracy: 0.9801 - val_loss: 0.0322 - val_accuracy: 0.9967\n",
            "Epoch 44/100\n",
            "22/22 [==============================] - 0s 8ms/step - loss: 0.0928 - accuracy: 0.9801 - val_loss: 0.0329 - val_accuracy: 0.9967\n",
            "Epoch 45/100\n",
            "22/22 [==============================] - 0s 9ms/step - loss: 0.0927 - accuracy: 0.9801 - val_loss: 0.0312 - val_accuracy: 0.9967\n",
            "Epoch 46/100\n",
            "22/22 [==============================] - 0s 10ms/step - loss: 0.0928 - accuracy: 0.9801 - val_loss: 0.0320 - val_accuracy: 0.9967\n",
            "Epoch 47/100\n",
            "22/22 [==============================] - 0s 7ms/step - loss: 0.0924 - accuracy: 0.9801 - val_loss: 0.0321 - val_accuracy: 0.9967\n",
            "Epoch 48/100\n",
            "22/22 [==============================] - 0s 7ms/step - loss: 0.0924 - accuracy: 0.9801 - val_loss: 0.0317 - val_accuracy: 0.9967\n",
            "Epoch 49/100\n",
            "22/22 [==============================] - 0s 9ms/step - loss: 0.0928 - accuracy: 0.9801 - val_loss: 0.0304 - val_accuracy: 0.9967\n",
            "Epoch 50/100\n",
            "22/22 [==============================] - 0s 8ms/step - loss: 0.0921 - accuracy: 0.9801 - val_loss: 0.0320 - val_accuracy: 0.9967\n",
            "Epoch 51/100\n",
            "22/22 [==============================] - 0s 7ms/step - loss: 0.0920 - accuracy: 0.9801 - val_loss: 0.0324 - val_accuracy: 0.9967\n",
            "Epoch 52/100\n",
            "22/22 [==============================] - 0s 11ms/step - loss: 0.0928 - accuracy: 0.9801 - val_loss: 0.0302 - val_accuracy: 0.9967\n",
            "Epoch 53/100\n",
            "22/22 [==============================] - 0s 10ms/step - loss: 0.0920 - accuracy: 0.9801 - val_loss: 0.0329 - val_accuracy: 0.9967\n",
            "Epoch 54/100\n",
            "22/22 [==============================] - 0s 10ms/step - loss: 0.0930 - accuracy: 0.9801 - val_loss: 0.0321 - val_accuracy: 0.9967\n",
            "Epoch 55/100\n",
            "22/22 [==============================] - 0s 8ms/step - loss: 0.0924 - accuracy: 0.9801 - val_loss: 0.0301 - val_accuracy: 0.9967\n",
            "Epoch 56/100\n",
            "22/22 [==============================] - 0s 7ms/step - loss: 0.0924 - accuracy: 0.9801 - val_loss: 0.0316 - val_accuracy: 0.9967\n",
            "Epoch 57/100\n",
            "22/22 [==============================] - 0s 9ms/step - loss: 0.0923 - accuracy: 0.9801 - val_loss: 0.0330 - val_accuracy: 0.9967\n",
            "Epoch 58/100\n",
            "22/22 [==============================] - 0s 8ms/step - loss: 0.0938 - accuracy: 0.9801 - val_loss: 0.0285 - val_accuracy: 0.9967\n",
            "Epoch 59/100\n",
            "22/22 [==============================] - 0s 9ms/step - loss: 0.0913 - accuracy: 0.9801 - val_loss: 0.0316 - val_accuracy: 0.9967\n",
            "Epoch 60/100\n",
            "22/22 [==============================] - 0s 8ms/step - loss: 0.0917 - accuracy: 0.9801 - val_loss: 0.0321 - val_accuracy: 0.9967\n",
            "Epoch 61/100\n",
            "22/22 [==============================] - 0s 7ms/step - loss: 0.0924 - accuracy: 0.9801 - val_loss: 0.0323 - val_accuracy: 0.9967\n",
            "Epoch 62/100\n",
            "22/22 [==============================] - 0s 8ms/step - loss: 0.0917 - accuracy: 0.9801 - val_loss: 0.0294 - val_accuracy: 0.9967\n",
            "Epoch 63/100\n",
            "22/22 [==============================] - 0s 9ms/step - loss: 0.0919 - accuracy: 0.9801 - val_loss: 0.0314 - val_accuracy: 0.9967\n",
            "Epoch 64/100\n",
            "22/22 [==============================] - 0s 8ms/step - loss: 0.0916 - accuracy: 0.9801 - val_loss: 0.0307 - val_accuracy: 0.9967\n",
            "Epoch 65/100\n",
            "22/22 [==============================] - 0s 9ms/step - loss: 0.0923 - accuracy: 0.9801 - val_loss: 0.0309 - val_accuracy: 0.9967\n",
            "Epoch 66/100\n",
            "22/22 [==============================] - 0s 7ms/step - loss: 0.0917 - accuracy: 0.9801 - val_loss: 0.0300 - val_accuracy: 0.9967\n",
            "Epoch 67/100\n",
            "22/22 [==============================] - 0s 8ms/step - loss: 0.0919 - accuracy: 0.9801 - val_loss: 0.0294 - val_accuracy: 0.9967\n",
            "Epoch 68/100\n",
            "22/22 [==============================] - 0s 10ms/step - loss: 0.0922 - accuracy: 0.9801 - val_loss: 0.0312 - val_accuracy: 0.9967\n",
            "Epoch 69/100\n",
            "22/22 [==============================] - 0s 8ms/step - loss: 0.0914 - accuracy: 0.9801 - val_loss: 0.0304 - val_accuracy: 0.9967\n",
            "Epoch 70/100\n",
            "22/22 [==============================] - 0s 8ms/step - loss: 0.0917 - accuracy: 0.9801 - val_loss: 0.0295 - val_accuracy: 0.9967\n",
            "Epoch 71/100\n",
            "22/22 [==============================] - 0s 8ms/step - loss: 0.0919 - accuracy: 0.9801 - val_loss: 0.0300 - val_accuracy: 0.9967\n",
            "Epoch 72/100\n",
            "22/22 [==============================] - 0s 8ms/step - loss: 0.0916 - accuracy: 0.9801 - val_loss: 0.0307 - val_accuracy: 0.9967\n",
            "Epoch 73/100\n",
            "22/22 [==============================] - 0s 11ms/step - loss: 0.0913 - accuracy: 0.9801 - val_loss: 0.0299 - val_accuracy: 0.9967\n",
            "Epoch 74/100\n",
            "22/22 [==============================] - 0s 10ms/step - loss: 0.0914 - accuracy: 0.9801 - val_loss: 0.0298 - val_accuracy: 0.9967\n",
            "Epoch 75/100\n",
            "22/22 [==============================] - 0s 10ms/step - loss: 0.0919 - accuracy: 0.9801 - val_loss: 0.0312 - val_accuracy: 0.9967\n",
            "Epoch 76/100\n",
            "22/22 [==============================] - 0s 10ms/step - loss: 0.0916 - accuracy: 0.9801 - val_loss: 0.0293 - val_accuracy: 0.9967\n",
            "Epoch 77/100\n",
            "22/22 [==============================] - 0s 8ms/step - loss: 0.0912 - accuracy: 0.9801 - val_loss: 0.0308 - val_accuracy: 0.9967\n",
            "Epoch 78/100\n",
            "22/22 [==============================] - 0s 9ms/step - loss: 0.0910 - accuracy: 0.9801 - val_loss: 0.0304 - val_accuracy: 0.9967\n",
            "Epoch 79/100\n",
            "22/22 [==============================] - 0s 8ms/step - loss: 0.0920 - accuracy: 0.9801 - val_loss: 0.0297 - val_accuracy: 0.9967\n",
            "Epoch 80/100\n",
            "22/22 [==============================] - 0s 10ms/step - loss: 0.0909 - accuracy: 0.9801 - val_loss: 0.0308 - val_accuracy: 0.9967\n",
            "Epoch 81/100\n",
            "22/22 [==============================] - 0s 10ms/step - loss: 0.0920 - accuracy: 0.9801 - val_loss: 0.0309 - val_accuracy: 0.9967\n",
            "Epoch 82/100\n",
            "22/22 [==============================] - 0s 10ms/step - loss: 0.0910 - accuracy: 0.9801 - val_loss: 0.0298 - val_accuracy: 0.9967\n",
            "Epoch 83/100\n",
            "22/22 [==============================] - 0s 8ms/step - loss: 0.0914 - accuracy: 0.9801 - val_loss: 0.0290 - val_accuracy: 0.9967\n",
            "Epoch 84/100\n",
            "22/22 [==============================] - 0s 9ms/step - loss: 0.0910 - accuracy: 0.9801 - val_loss: 0.0306 - val_accuracy: 0.9967\n",
            "Epoch 85/100\n",
            "22/22 [==============================] - 0s 9ms/step - loss: 0.0916 - accuracy: 0.9801 - val_loss: 0.0299 - val_accuracy: 0.9967\n",
            "Epoch 86/100\n",
            "22/22 [==============================] - 0s 8ms/step - loss: 0.0914 - accuracy: 0.9801 - val_loss: 0.0321 - val_accuracy: 0.9967\n",
            "Epoch 87/100\n",
            "22/22 [==============================] - 0s 12ms/step - loss: 0.0910 - accuracy: 0.9801 - val_loss: 0.0291 - val_accuracy: 0.9967\n",
            "Epoch 88/100\n",
            "22/22 [==============================] - 0s 12ms/step - loss: 0.0923 - accuracy: 0.9801 - val_loss: 0.0313 - val_accuracy: 0.9967\n",
            "Epoch 89/100\n",
            "22/22 [==============================] - 0s 11ms/step - loss: 0.0909 - accuracy: 0.9801 - val_loss: 0.0287 - val_accuracy: 0.9967\n",
            "Epoch 90/100\n",
            "22/22 [==============================] - 0s 13ms/step - loss: 0.0934 - accuracy: 0.9801 - val_loss: 0.0306 - val_accuracy: 0.9967\n",
            "Epoch 91/100\n",
            "22/22 [==============================] - 0s 13ms/step - loss: 0.0913 - accuracy: 0.9801 - val_loss: 0.0283 - val_accuracy: 0.9967\n",
            "Epoch 92/100\n",
            "22/22 [==============================] - 0s 13ms/step - loss: 0.0915 - accuracy: 0.9801 - val_loss: 0.0305 - val_accuracy: 0.9967\n",
            "Epoch 93/100\n",
            "22/22 [==============================] - 0s 11ms/step - loss: 0.0908 - accuracy: 0.9801 - val_loss: 0.0291 - val_accuracy: 0.9967\n",
            "Epoch 94/100\n",
            "22/22 [==============================] - 0s 13ms/step - loss: 0.0908 - accuracy: 0.9801 - val_loss: 0.0295 - val_accuracy: 0.9967\n",
            "Epoch 95/100\n",
            "22/22 [==============================] - 0s 15ms/step - loss: 0.0908 - accuracy: 0.9801 - val_loss: 0.0292 - val_accuracy: 0.9967\n",
            "Epoch 96/100\n",
            "22/22 [==============================] - 0s 14ms/step - loss: 0.0908 - accuracy: 0.9801 - val_loss: 0.0301 - val_accuracy: 0.9967\n",
            "Epoch 97/100\n",
            "22/22 [==============================] - 0s 8ms/step - loss: 0.0912 - accuracy: 0.9801 - val_loss: 0.0284 - val_accuracy: 0.9967\n",
            "Epoch 98/100\n",
            "22/22 [==============================] - 0s 9ms/step - loss: 0.0907 - accuracy: 0.9801 - val_loss: 0.0306 - val_accuracy: 0.9967\n",
            "Epoch 99/100\n",
            "22/22 [==============================] - 0s 10ms/step - loss: 0.0913 - accuracy: 0.9801 - val_loss: 0.0297 - val_accuracy: 0.9967\n",
            "Epoch 100/100\n",
            "22/22 [==============================] - 0s 10ms/step - loss: 0.0906 - accuracy: 0.9801 - val_loss: 0.0298 - val_accuracy: 0.9967\n",
            "10/10 [==============================] - 1s 3ms/step\n",
            "Test accuracy: 0.997\n",
            "RMSE: 0.0575435337648436\n"
          ]
        }
      ]
    },
    {
      "cell_type": "markdown",
      "metadata": {
        "id": "kkLwtkEXZVwo"
      },
      "source": [
        "\n",
        "\n",
        "---\n",
        "\n",
        "# **AQI MODEL START**"
      ]
    },
    {
      "cell_type": "markdown",
      "metadata": {
        "id": "qjYaRfPRZfr8"
      },
      "source": [
        "Importing Required Libraries"
      ]
    },
    {
      "cell_type": "code",
      "execution_count": null,
      "metadata": {
        "id": "0swb6HbhXW9_"
      },
      "outputs": [],
      "source": [
        "path = '/content/AQI.csv'\n",
        "df00 = pd.read_csv(path,encoding = 'unicode_escape',index_col=None, header =0)"
      ]
    },
    {
      "cell_type": "code",
      "execution_count": null,
      "metadata": {
        "id": "H9MXk1zGbTij"
      },
      "outputs": [],
      "source": [
        "df4 = df00[(df00.District == 'Nizamabad\\n')]"
      ]
    },
    {
      "cell_type": "code",
      "execution_count": null,
      "metadata": {
        "colab": {
          "base_uri": "https://localhost:8080/",
          "height": 206
        },
        "id": "a51MvwARbkGG",
        "outputId": "29e14e33-585e-404d-f774-3bcf27780702"
      },
      "outputs": [
        {
          "data": {
            "text/html": [
              "\n",
              "  <div id=\"df-0b691f9e-c377-4c42-b8fe-2c9a2e40b85d\">\n",
              "    <div class=\"colab-df-container\">\n",
              "      <div>\n",
              "<style scoped>\n",
              "    .dataframe tbody tr th:only-of-type {\n",
              "        vertical-align: middle;\n",
              "    }\n",
              "\n",
              "    .dataframe tbody tr th {\n",
              "        vertical-align: top;\n",
              "    }\n",
              "\n",
              "    .dataframe thead th {\n",
              "        text-align: right;\n",
              "    }\n",
              "</style>\n",
              "<table border=\"1\" class=\"dataframe\">\n",
              "  <thead>\n",
              "    <tr style=\"text-align: right;\">\n",
              "      <th></th>\n",
              "      <th>District</th>\n",
              "      <th>Date</th>\n",
              "      <th>Sox</th>\n",
              "      <th>Nox</th>\n",
              "      <th>PM10</th>\n",
              "      <th>NH3</th>\n",
              "      <th>AQI</th>\n",
              "    </tr>\n",
              "  </thead>\n",
              "  <tbody>\n",
              "    <tr>\n",
              "      <th>0</th>\n",
              "      <td>Nizamabad\\n</td>\n",
              "      <td>1-Jan</td>\n",
              "      <td>6.0</td>\n",
              "      <td>22.4</td>\n",
              "      <td>61.0</td>\n",
              "      <td>NaN</td>\n",
              "      <td>61.0</td>\n",
              "    </tr>\n",
              "    <tr>\n",
              "      <th>1</th>\n",
              "      <td>Nizamabad\\n</td>\n",
              "      <td>1-Feb</td>\n",
              "      <td>6.0</td>\n",
              "      <td>22.4</td>\n",
              "      <td>61.0</td>\n",
              "      <td>NaN</td>\n",
              "      <td>61.0</td>\n",
              "    </tr>\n",
              "    <tr>\n",
              "      <th>2</th>\n",
              "      <td>Nizamabad\\n</td>\n",
              "      <td>1-Mar</td>\n",
              "      <td>5.9</td>\n",
              "      <td>22.2</td>\n",
              "      <td>66.0</td>\n",
              "      <td>NaN</td>\n",
              "      <td>66.0</td>\n",
              "    </tr>\n",
              "    <tr>\n",
              "      <th>3</th>\n",
              "      <td>Nizamabad\\n</td>\n",
              "      <td>1-Apr</td>\n",
              "      <td>5.9</td>\n",
              "      <td>21.8</td>\n",
              "      <td>70.0</td>\n",
              "      <td>NaN</td>\n",
              "      <td>70.0</td>\n",
              "    </tr>\n",
              "    <tr>\n",
              "      <th>4</th>\n",
              "      <td>Nizamabad\\n</td>\n",
              "      <td>1-May</td>\n",
              "      <td>5.9</td>\n",
              "      <td>22.6</td>\n",
              "      <td>47.0</td>\n",
              "      <td>NaN</td>\n",
              "      <td>54.0</td>\n",
              "    </tr>\n",
              "  </tbody>\n",
              "</table>\n",
              "</div>\n",
              "      <button class=\"colab-df-convert\" onclick=\"convertToInteractive('df-0b691f9e-c377-4c42-b8fe-2c9a2e40b85d')\"\n",
              "              title=\"Convert this dataframe to an interactive table.\"\n",
              "              style=\"display:none;\">\n",
              "        \n",
              "  <svg xmlns=\"http://www.w3.org/2000/svg\" height=\"24px\"viewBox=\"0 0 24 24\"\n",
              "       width=\"24px\">\n",
              "    <path d=\"M0 0h24v24H0V0z\" fill=\"none\"/>\n",
              "    <path d=\"M18.56 5.44l.94 2.06.94-2.06 2.06-.94-2.06-.94-.94-2.06-.94 2.06-2.06.94zm-11 1L8.5 8.5l.94-2.06 2.06-.94-2.06-.94L8.5 2.5l-.94 2.06-2.06.94zm10 10l.94 2.06.94-2.06 2.06-.94-2.06-.94-.94-2.06-.94 2.06-2.06.94z\"/><path d=\"M17.41 7.96l-1.37-1.37c-.4-.4-.92-.59-1.43-.59-.52 0-1.04.2-1.43.59L10.3 9.45l-7.72 7.72c-.78.78-.78 2.05 0 2.83L4 21.41c.39.39.9.59 1.41.59.51 0 1.02-.2 1.41-.59l7.78-7.78 2.81-2.81c.8-.78.8-2.07 0-2.86zM5.41 20L4 18.59l7.72-7.72 1.47 1.35L5.41 20z\"/>\n",
              "  </svg>\n",
              "      </button>\n",
              "      \n",
              "  <style>\n",
              "    .colab-df-container {\n",
              "      display:flex;\n",
              "      flex-wrap:wrap;\n",
              "      gap: 12px;\n",
              "    }\n",
              "\n",
              "    .colab-df-convert {\n",
              "      background-color: #E8F0FE;\n",
              "      border: none;\n",
              "      border-radius: 50%;\n",
              "      cursor: pointer;\n",
              "      display: none;\n",
              "      fill: #1967D2;\n",
              "      height: 32px;\n",
              "      padding: 0 0 0 0;\n",
              "      width: 32px;\n",
              "    }\n",
              "\n",
              "    .colab-df-convert:hover {\n",
              "      background-color: #E2EBFA;\n",
              "      box-shadow: 0px 1px 2px rgba(60, 64, 67, 0.3), 0px 1px 3px 1px rgba(60, 64, 67, 0.15);\n",
              "      fill: #174EA6;\n",
              "    }\n",
              "\n",
              "    [theme=dark] .colab-df-convert {\n",
              "      background-color: #3B4455;\n",
              "      fill: #D2E3FC;\n",
              "    }\n",
              "\n",
              "    [theme=dark] .colab-df-convert:hover {\n",
              "      background-color: #434B5C;\n",
              "      box-shadow: 0px 1px 3px 1px rgba(0, 0, 0, 0.15);\n",
              "      filter: drop-shadow(0px 1px 2px rgba(0, 0, 0, 0.3));\n",
              "      fill: #FFFFFF;\n",
              "    }\n",
              "  </style>\n",
              "\n",
              "      <script>\n",
              "        const buttonEl =\n",
              "          document.querySelector('#df-0b691f9e-c377-4c42-b8fe-2c9a2e40b85d button.colab-df-convert');\n",
              "        buttonEl.style.display =\n",
              "          google.colab.kernel.accessAllowed ? 'block' : 'none';\n",
              "\n",
              "        async function convertToInteractive(key) {\n",
              "          const element = document.querySelector('#df-0b691f9e-c377-4c42-b8fe-2c9a2e40b85d');\n",
              "          const dataTable =\n",
              "            await google.colab.kernel.invokeFunction('convertToInteractive',\n",
              "                                                     [key], {});\n",
              "          if (!dataTable) return;\n",
              "\n",
              "          const docLinkHtml = 'Like what you see? Visit the ' +\n",
              "            '<a target=\"_blank\" href=https://colab.research.google.com/notebooks/data_table.ipynb>data table notebook</a>'\n",
              "            + ' to learn more about interactive tables.';\n",
              "          element.innerHTML = '';\n",
              "          dataTable['output_type'] = 'display_data';\n",
              "          await google.colab.output.renderOutput(dataTable, element);\n",
              "          const docLink = document.createElement('div');\n",
              "          docLink.innerHTML = docLinkHtml;\n",
              "          element.appendChild(docLink);\n",
              "        }\n",
              "      </script>\n",
              "    </div>\n",
              "  </div>\n",
              "  "
            ],
            "text/plain": [
              "      District   Date  Sox   Nox  PM10  NH3   AQI\n",
              "0  Nizamabad\\n  1-Jan  6.0  22.4  61.0  NaN  61.0\n",
              "1  Nizamabad\\n  1-Feb  6.0  22.4  61.0  NaN  61.0\n",
              "2  Nizamabad\\n  1-Mar  5.9  22.2  66.0  NaN  66.0\n",
              "3  Nizamabad\\n  1-Apr  5.9  21.8  70.0  NaN  70.0\n",
              "4  Nizamabad\\n  1-May  5.9  22.6  47.0  NaN  54.0"
            ]
          },
          "execution_count": 65,
          "metadata": {},
          "output_type": "execute_result"
        }
      ],
      "source": [
        "df4.head()"
      ]
    },
    {
      "cell_type": "code",
      "execution_count": null,
      "metadata": {
        "colab": {
          "base_uri": "https://localhost:8080/",
          "height": 282
        },
        "id": "uqNa4tUuZo9E",
        "outputId": "177fbd3e-2d32-469a-9091-0ce2cb199622"
      },
      "outputs": [
        {
          "data": {
            "text/plain": [
              "<AxesSubplot:>"
            ]
          },
          "execution_count": 66,
          "metadata": {},
          "output_type": "execute_result"
        },
        {
          "data": {
            "image/png": "[encoded data removed]",
            "text/plain": [
              "<Figure size 432x288 with 1 Axes>"
            ]
          },
          "metadata": {},
          "output_type": "display_data"
        }
      ],
      "source": [
        "# Check for null values\n",
        "\n",
        "sb.heatmap(df4.isnull(),yticklabels=False,cbar=False,cmap='viridis')"
      ]
    },
    {
      "cell_type": "code",
      "execution_count": null,
      "metadata": {
        "id": "p4OjwRmaaITs"
      },
      "outputs": [],
      "source": [
        "df4 =df4.dropna()"
      ]
    },
    {
      "cell_type": "code",
      "execution_count": null,
      "metadata": {
        "colab": {
          "base_uri": "https://localhost:8080/",
          "height": 1000
        },
        "id": "-7nf2yC8aog5",
        "outputId": "27e3b58e-e3aa-4a62-b781-4a8a277874cd"
      },
      "outputs": [
        {
          "data": {
            "text/plain": [
              "<AxesSubplot:>"
            ]
          },
          "execution_count": 68,
          "metadata": {},
          "output_type": "execute_result"
        },
        {
          "data": {
            "image/png": "[encoded data removed]",
            "text/plain": [
              "<Figure size 1440x1440 with 2 Axes>"
            ]
          },
          "metadata": {},
          "output_type": "display_data"
        }
      ],
      "source": [
        "#get correlations of each features in dataset\n",
        "corrmat = df4.corr()\n",
        "top_corr_features = corrmat.index\n",
        "plt.figure(figsize=(20,20))\n",
        "#plot heat map\n",
        "sb.heatmap(df4[top_corr_features].corr(),annot=True,cmap=\"RdYlGn\")"
      ]
    },
    {
      "cell_type": "code",
      "execution_count": null,
      "metadata": {
        "colab": {
          "base_uri": "https://localhost:8080/"
        },
        "id": "IrD_MeRWa0Kf",
        "outputId": "1edee6fe-426e-43ad-a472-0547c592e3c9"
      },
      "outputs": [
        {
          "name": "stdout",
          "output_type": "stream",
          "text": [
            "Mean Squared Error: 28.34126984126984\n",
            "R2 Score: 0.7448139981216056\n",
            "Predicted  for next month: [43.]\n"
          ]
        },
        {
          "name": "stderr",
          "output_type": "stream",
          "text": [
            "<ipython-input-80-4e89786f1d12>:17: SettingWithCopyWarning: \n",
            "A value is trying to be set on a copy of a slice from a DataFrame.\n",
            "Try using .loc[row_indexer,col_indexer] = value instead\n",
            "\n",
            "See the caveats in the documentation: https://pandas.pydata.org/pandas-docs/stable/user_guide/indexing.html#returning-a-view-versus-a-copy\n",
            "  X['PM10'] = X['PM10'] * 0.87\n"
          ]
        }
      ],
      "source": [
        "# Importing required libraries\n",
        "from sklearn.tree import DecisionTreeRegressor\n",
        "from sklearn.model_selection import train_test_split\n",
        "from sklearn.metrics import mean_squared_error, r2_score\n",
        "\n",
        "\n",
        "\n",
        "# Creating a separate column for month and year\n",
        "df4['Month'] = pd.to_datetime(df4['Date'], format='%d-%b').dt.month\n",
        "df4['Year'] = pd.to_datetime(df4['Date'], format='%d-%b').dt.year\n",
        "\n",
        "# Separating the features and target variable\n",
        "X = df4[['Sox', 'Nox', 'PM10', 'NH3', 'Month', 'Year']]\n",
        "y = df4['AQI']\n",
        "\n",
        "# Adjusting the PM10 feature to take into account correlation as it is highly correlated\n",
        "X['PM10'] = X['PM10'] * 0.87\n",
        "\n",
        "# Splitting the data into training and test sets\n",
        "X_train, X_test, y_train, y_test = train_test_split(X, y, test_size=0.2, random_state=42)\n",
        "\n",
        "# Creating the Decision Tree Regressor model\n",
        "model = DecisionTreeRegressor(max_depth=5)\n",
        "\n",
        "# Fitting the model to the training data\n",
        "model.fit(X_train, y_train)\n",
        "\n",
        "# Predicting the AQI for the test set\n",
        "y_pred = model.predict(X_test)\n",
        "\n",
        "# Evaluating the model using Mean Squared Error and R2 Score\n",
        "mse = mean_squared_error(y_test, y_pred)\n",
        "r2 = r2_score(y_test, y_pred)\n",
        "\n",
        "print('Mean Squared Error:', mse)\n",
        "print('R2 Score:', r2)\n",
        "\n",
        "# Predicting the AQI for a new set of monthly data\n",
        "new_data = pd.DataFrame({'Sox': [25.6], 'Nox': [37.8], 'PM10': [35.02], 'NH3': [17.2], 'Month': [2], 'Year': [2022]})\n",
        "predicted_aqi = model.predict(new_data)\n",
        "\n",
        "print('Predicted  for next month:', predicted_aqi)\n"
      ]
    }
  ],
  "metadata": {
    "colab": {
      "provenance": []
    },
    "kernelspec": {
      "display_name": "Python 3",
      "name": "python3"
    },
    "language_info": {
      "name": "python"
    }
  },
  "nbformat": 4,
  "nbformat_minor": 0
}